{
  "nbformat": 4,
  "nbformat_minor": 0,
  "metadata": {
    "colab": {
      "provenance": [],
      "include_colab_link": true
    },
    "kernelspec": {
      "name": "python3",
      "display_name": "Python 3"
    },
    "accelerator": "GPU"
  },
  "cells": [
    {
      "cell_type": "markdown",
      "metadata": {
        "id": "view-in-github",
        "colab_type": "text"
      },
      "source": [
        "<a href=\"https://colab.research.google.com/github/Roxoner44/CalidadSoftware/blob/main/Diferentes%20Pruebas/Interpretabilidad_primer_modelo.ipynb\" target=\"_parent\"><img src=\"https://colab.research.google.com/assets/colab-badge.svg\" alt=\"Open In Colab\"/></a>"
      ]
    },
    {
      "cell_type": "markdown",
      "source": [
        "#Modelo de interpretabilidad por heatmap"
      ],
      "metadata": {
        "id": "BBanrAQjvbMQ"
      }
    },
    {
      "cell_type": "markdown",
      "source": [
        "Este colab se basa en usar un modelo ya entrenado para comprobar en qué se fija a la hora de clasificar las celulas.\n",
        "\n",
        "Vamos a usar el modelo.v2 (modificandolo si fuera necesario) puesto que era el que mejor resultados termina obteniendo (62%)"
      ],
      "metadata": {
        "id": "j5dXS7-Gvho0"
      }
    },
    {
      "cell_type": "markdown",
      "source": [
        "###Cargar los datos"
      ],
      "metadata": {
        "id": "riwUSXYpv5Oe"
      }
    },
    {
      "cell_type": "markdown",
      "source": [
        "Para poder usar las imagenes primero hay que cargargas desde el drive"
      ],
      "metadata": {
        "id": "kWaWKgaEv-bd"
      }
    },
    {
      "cell_type": "code",
      "source": [
        "from google.colab import drive\n",
        "#Montamos el drive en el directorio /content/drive\n",
        "drive.mount(\"/content/drive\")"
      ],
      "metadata": {
        "id": "9wLAjEsZwHk7",
        "colab": {
          "base_uri": "https://localhost:8080/"
        },
        "outputId": "09305593-be90-4411-d960-3db28b04ae9f"
      },
      "execution_count": 2,
      "outputs": [
        {
          "output_type": "stream",
          "name": "stdout",
          "text": [
            "Mounted at /content/drive\n"
          ]
        }
      ]
    },
    {
      "cell_type": "code",
      "source": [
        "#El camino donde tengo las celulas y donde voy a guardar los resultados son distintos\n",
        "CELULASPATH = \"/content/drive/My Drive/cérvix - proyecto/Celulas\"\n",
        "RESULTADOSPATH =\"/content/drive/MyDrive/ucam/Investigación/resultados\"\n",
        "\n",
        "!ls \"$CELULASPATH\"\n",
        "!ls \"$RESULTADOSPATH\""
      ],
      "metadata": {
        "id": "lIbBe55dw1BB",
        "colab": {
          "base_uri": "https://localhost:8080/"
        },
        "outputId": "b0ba7c7f-d26b-46ea-c389-9e6a6aae96db"
      },
      "execution_count": 3,
      "outputs": [
        {
          "output_type": "stream",
          "name": "stdout",
          "text": [
            "entrenamiento  test\n"
          ]
        }
      ]
    },
    {
      "cell_type": "markdown",
      "source": [
        "##Imports necesarios"
      ],
      "metadata": {
        "id": "8h2UPieRxwYy"
      }
    },
    {
      "cell_type": "markdown",
      "source": [
        "Importamos las librerías que vayamos a usar"
      ],
      "metadata": {
        "id": "AcGm8V2Px7t-"
      }
    },
    {
      "cell_type": "code",
      "source": [
        "!pip install -q -U keras-tuner\n",
        "import tensorflow as tf\n",
        "from tensorflow import keras\n",
        "\n",
        "import numpy as np\n",
        "import pandas as pd\n",
        "import matplotlib.pyplot as plt\n",
        "import pathlib\n",
        "\n",
        "from keras import Sequential\n",
        "from keras import models\n",
        "from keras import layers\n",
        "from keras.layers import Conv2D\n",
        "from keras.layers import MaxPooling2D\n",
        "from keras.layers import Dense\n",
        "from keras.layers import Flatten\n",
        "from keras.layers import AveragePooling2D\n",
        "from keras.preprocessing.image import ImageDataGenerator\n",
        "from keras.layers import Dropout, BatchNormalization\n",
        "\n",
        "from tensorflow.keras import optimizers\n",
        "from sklearn.metrics import accuracy_score\n",
        "from sklearn.metrics import confusion_matrix\n",
        "from sklearn.metrics import ConfusionMatrixDisplay\n",
        "import seaborn as sns\n",
        "\n",
        "print(tf.__version__)"
      ],
      "metadata": {
        "colab": {
          "base_uri": "https://localhost:8080/"
        },
        "id": "Nv4EbyYBxv8O",
        "outputId": "7322a4b7-87f5-4892-fde1-a396119d412d"
      },
      "execution_count": 4,
      "outputs": [
        {
          "output_type": "stream",
          "name": "stdout",
          "text": [
            "\u001b[K     |████████████████████████████████| 135 kB 17.7 MB/s \n",
            "\u001b[K     |████████████████████████████████| 1.6 MB 54.1 MB/s \n",
            "\u001b[?25h2.9.2\n"
          ]
        }
      ]
    },
    {
      "cell_type": "markdown",
      "source": [
        "##Carga del set de datos"
      ],
      "metadata": {
        "id": "bns7Uc2Aylsl"
      }
    },
    {
      "cell_type": "markdown",
      "source": [
        "Vamos a cargar los datos paso a paso:"
      ],
      "metadata": {
        "id": "gyZIfxqoyq5U"
      }
    },
    {
      "cell_type": "markdown",
      "source": [
        "###Definimos variables globales"
      ],
      "metadata": {
        "id": "QUewNncMz6WR"
      }
    },
    {
      "cell_type": "code",
      "source": [
        "#El tamaño del batch lo podemos modificar más adelante, deberíamos tambien comprobar el numero de elementos que tiene el dataset\n",
        "batch_size = 32\n",
        "img_height = 224\n",
        "img_width = 224"
      ],
      "metadata": {
        "id": "g73jJ77Vz2i7"
      },
      "execution_count": 5,
      "outputs": []
    },
    {
      "cell_type": "markdown",
      "source": [
        "###Cargamos los datos del train"
      ],
      "metadata": {
        "id": "GNfbp6Ewy6q7"
      }
    },
    {
      "cell_type": "code",
      "source": [
        "#Guardamos el path en el cual se encuentran las imagenes de entrenamiento\n",
        "data_train = pathlib.Path(CELULASPATH + \"/entrenamiento\")\n",
        "#contamos todos los ficheros que haya en todos los subdirectorios que tengan el formato .tiff\n",
        "count = len(list(data_train.glob(\"*/*.tiff\")))\n",
        "\n",
        "print(\"Imgs Entrenamiento : \"+ str(count))\n",
        "\n",
        "#Reescalamos los datos\n",
        "train_datagen = ImageDataGenerator(\n",
        "    rescale = 1./255,\n",
        "    horizontal_flip = True,\n",
        "    vertical_flip = True,\n",
        "    validation_split = 0.1)\n",
        "\n",
        "train_generator = train_datagen.flow_from_directory(\n",
        "    data_train,\n",
        "    target_size = (img_height, img_width),\n",
        "    batch_size = batch_size,\n",
        "    shuffle = True,\n",
        "    class_mode = 'categorical',\n",
        "    subset = 'training',\n",
        "    seed = 42)\n",
        "\n",
        "validation_generator = train_datagen.flow_from_directory(\n",
        "    data_train, # same directory as training data\n",
        "    target_size=(img_height, img_width),\n",
        "    batch_size=batch_size,\n",
        "    shuffle=True,\n",
        "    class_mode='categorical',\n",
        "    subset='validation',\n",
        "    seed=42) # set as validation data\n"
      ],
      "metadata": {
        "colab": {
          "base_uri": "https://localhost:8080/"
        },
        "id": "XDoN4nPCyygk",
        "outputId": "cc2cc583-a36a-4a0f-bd58-736767d2dbd3"
      },
      "execution_count": 6,
      "outputs": [
        {
          "output_type": "stream",
          "name": "stdout",
          "text": [
            "Imgs Entrenamiento : 1743\n",
            "Found 1571 images belonging to 4 classes.\n"
          ]
        },
        {
          "output_type": "stream",
          "name": "stderr",
          "text": [
            "/usr/local/lib/python3.7/dist-packages/keras/preprocessing/image.py:193: UserWarning: Using \".tiff\" files with multiple bands will cause distortion. Please verify your output.\n",
            "  warnings.warn('Using \".tiff\" files with multiple bands '\n"
          ]
        },
        {
          "output_type": "stream",
          "name": "stdout",
          "text": [
            "Found 172 images belonging to 4 classes.\n"
          ]
        }
      ]
    },
    {
      "cell_type": "markdown",
      "source": [
        "Nos quedamos con 1571 imagenes para entrenar y 172 para validar"
      ],
      "metadata": {
        "id": "IN6Wo8b92psx"
      }
    },
    {
      "cell_type": "markdown",
      "source": [
        "###Cargamos los datos del Test"
      ],
      "metadata": {
        "id": "OXa2r9ps2_PH"
      }
    },
    {
      "cell_type": "code",
      "source": [
        "#Guardamos el path en el cual se encuentran las imagenes de test\n",
        "data_test= pathlib.Path(CELULASPATH + \"/test\")\n",
        "#contamos todos los ficheros que haya en todos los subdirectorios que tengan el formato .tiff\n",
        "count = len(list(data_test.glob(\"*/*.tiff\")))\n",
        "\n",
        "#Reescalamos los datos\n",
        "test_datagen = ImageDataGenerator(rescale=1./255)\n",
        "\n",
        "test_generator = test_datagen.flow_from_directory(data_test,\n",
        "                                                target_size=(224, 224),\n",
        "                                                batch_size=1,\n",
        "                                                shuffle=False,\n",
        "                                             class_mode='categorical')\n"
      ],
      "metadata": {
        "colab": {
          "base_uri": "https://localhost:8080/"
        },
        "id": "amH8_8eX29-L",
        "outputId": "5c55a9ea-7706-4010-b962-115e6e2f534a"
      },
      "execution_count": 7,
      "outputs": [
        {
          "output_type": "stream",
          "name": "stdout",
          "text": [
            "Found 120 images belonging to 4 classes.\n"
          ]
        }
      ]
    },
    {
      "cell_type": "markdown",
      "source": [
        "Nos quedamos con 120 imagenes para testear "
      ],
      "metadata": {
        "id": "vtfFXUFS3tXu"
      }
    },
    {
      "cell_type": "markdown",
      "source": [
        "###Definimos la funcion para imprimir las imagenes"
      ],
      "metadata": {
        "id": "R2EI_6Lj4eCU"
      }
    },
    {
      "cell_type": "markdown",
      "source": [
        "Vamos a comprobar primero las labels con las que cuenta el modelo"
      ],
      "metadata": {
        "id": "2NJyU-7i6FX7"
      }
    },
    {
      "cell_type": "code",
      "source": [
        "class_names = list(train_generator.class_indices.keys())\n",
        "print(class_names)"
      ],
      "metadata": {
        "colab": {
          "base_uri": "https://localhost:8080/"
        },
        "id": "VxExRHL16Lfx",
        "outputId": "9bf0c4a4-5873-4a7b-83e4-ffe973d0a9fb"
      },
      "execution_count": 8,
      "outputs": [
        {
          "output_type": "stream",
          "name": "stdout",
          "text": [
            "['altogrado', 'ascus', 'bajogrado', 'benigna']\n"
          ]
        }
      ]
    },
    {
      "cell_type": "markdown",
      "source": [
        "Ya tenemos guardados los nombres de las clases, el problema es que para comprobar qué label tiene una imagen tenemos que dar un pequeño rodeo"
      ],
      "metadata": {
        "id": "afSM0DbQ5YWO"
      }
    },
    {
      "cell_type": "code",
      "source": [
        "x, y = train_generator.next()\n",
        "print('X:',x.shape)\n",
        "print('y:',y.shape)\n",
        "#plt.figure()\n",
        "#plt.xticks([])\n",
        "#plt.yticks([])\n",
        "#plt.imshow(x[0])\n",
        "#print(type(y[0]))\n",
        "#for j in range(4):\n",
        "#         if(y[0][j]==1): break\n",
        "#plt.title(class_names[j])\n",
        "#plt.grid(False)\n",
        "#plt.show()\n"
      ],
      "metadata": {
        "colab": {
          "base_uri": "https://localhost:8080/"
        },
        "id": "Xs97mu7l5nTz",
        "outputId": "4227c3e1-fcf6-4b56-ad1e-d05ab73ed5ec"
      },
      "execution_count": 9,
      "outputs": [
        {
          "output_type": "stream",
          "name": "stdout",
          "text": [
            "X: (32, 224, 224, 3)\n",
            "y: (32, 4)\n"
          ]
        }
      ]
    },
    {
      "cell_type": "code",
      "source": [
        "def plotImages(images_arr):\n",
        "    fig, axes = plt.subplots(1, 5, figsize=(20,20))\n",
        "    axes = axes.flatten()\n",
        "    for img, ax in zip( images_arr, axes):\n",
        "        ax.imshow(img)\n",
        "    plt.tight_layout()\n",
        "    plt.show()\n",
        "\n",
        "def mostrarConLabel(image_arr):\n",
        "    x,y = image_arr.next()\n",
        "    for i in range(0,3):\n",
        "      image = x[i]\n",
        "      label = y[i]\n",
        "      print (label)\n",
        "      plt.imshow(image)\n",
        "      plt.show()\n",
        "\n",
        "def mostrarConLabelMejor(image_arr):\n",
        "  x,y = image_arr.next()\n",
        "  plt.figure(figsize=(20,20))\n",
        "  for i in range(10):\n",
        "      plt.subplot(5,5,i+1)\n",
        "      plt.xticks([])\n",
        "      plt.yticks([])\n",
        "      plt.grid(False)\n",
        "      plt.imshow(x[i])\n",
        "      for j in range(4):\n",
        "         if(y[i][j]==1): break\n",
        "      plt.title(class_names[j])\n",
        "      \n",
        "  plt.show()"
      ],
      "metadata": {
        "id": "nhYt1Zeb4jVO"
      },
      "execution_count": 10,
      "outputs": []
    },
    {
      "cell_type": "markdown",
      "source": [
        "###Imprimimos las imagenes"
      ],
      "metadata": {
        "id": "FcjleaQd4DSt"
      }
    },
    {
      "cell_type": "code",
      "source": [
        "#augmented_images = [train_generator[i][0][0] for i in range(5)\n",
        "#for i in range(10):\n",
        " # augmented_images = train_generator[i][0][0]\n",
        " # label = train_generator[i][1][0]\n",
        "#plotImages(augmented_images)\n",
        "#mostrarConLabelMejor(train_generator)"
      ],
      "metadata": {
        "id": "n-pKODaX2KpY"
      },
      "execution_count": 11,
      "outputs": []
    },
    {
      "cell_type": "code",
      "source": [
        "#augmented_images = [train_generator[1][0][0] for i in range(5)]\n",
        "#mostrarConLabelMejor(augmented_images)"
      ],
      "metadata": {
        "id": "Nmtdyex8Dh3m"
      },
      "execution_count": 12,
      "outputs": []
    },
    {
      "cell_type": "markdown",
      "source": [
        "##Definir Modelo"
      ],
      "metadata": {
        "id": "-kJ75Ane-Sb3"
      }
    },
    {
      "cell_type": "markdown",
      "source": [
        "Definimos el modelo de CNN que vamos a usar, empezamos definiendo los pasos por epoca y los pasos de validación:"
      ],
      "metadata": {
        "id": "-JNgaiG8D9e3"
      }
    },
    {
      "cell_type": "code",
      "source": [
        "steps_per_epoch = train_generator.n // batch_size\n",
        "print(\"Train Steps: \"+str(steps_per_epoch)+ \" Train Data: \"+ str(train_generator.n)+ \" Batch: \"+ str(batch_size))\n",
        "validation_steps = validation_generator.n // batch_size\n",
        "print(\"Validation Steps: \"+str(validation_steps)+ \" Validation Data: \"+ str(validation_generator.n)+ \" Batch: \"+ str(batch_size))"
      ],
      "metadata": {
        "id": "RMsGt0E6IFbO",
        "colab": {
          "base_uri": "https://localhost:8080/"
        },
        "outputId": "714f2a0e-c288-4a74-9e25-278f6cbff30a"
      },
      "execution_count": 13,
      "outputs": [
        {
          "output_type": "stream",
          "name": "stdout",
          "text": [
            "Train Steps: 49 Train Data: 1571 Batch: 32\n",
            "Validation Steps: 5 Validation Data: 172 Batch: 32\n"
          ]
        }
      ]
    },
    {
      "cell_type": "markdown",
      "source": [
        "###Definicion de funciones de ejecucion automaticas"
      ],
      "metadata": {
        "id": "2ZIc31OEWeM2"
      }
    },
    {
      "cell_type": "markdown",
      "source": [
        "Como unicamente vamos a modificar el modelo y no vamos a modificar la forma de mostrar los resultados, las siguientes funciones pueden usarse de forma gloval sin necesidad de repetir el mismo codigo una y otra vez"
      ],
      "metadata": {
        "id": "ozwIKVmIWjnS"
      }
    },
    {
      "cell_type": "markdown",
      "source": [
        "####Mostrar Graficos de Epocas"
      ],
      "metadata": {
        "id": "sKfuk46WWx0V"
      }
    },
    {
      "cell_type": "code",
      "source": [
        "#Recibe el history generado\n",
        "def mostrarGrafico(history):\n",
        "  acc      = history.history['accuracy' ]\n",
        "  val_acc  = history.history[ 'val_accuracy' ]\n",
        "  loss     = history.history[    'loss' ]\n",
        "  val_loss = history.history['val_loss' ]\n",
        "\n",
        "  epochs    = range(1,len(acc)+1,1) # obtener número de epochs\n",
        "\n",
        "  plt.plot  ( epochs,     acc, 'r--', label='Training acc'  )\n",
        "  plt.plot  ( epochs, val_acc,  'b', label='Validation acc')\n",
        "  plt.title ('Training and validation accuracy')\n",
        "  plt.ylabel('acc')\n",
        "  plt.xlabel('epochs')\n",
        "\n",
        "  plt.legend()\n",
        "  plt.figure()\n",
        "\n",
        "  plt.plot  ( epochs,     loss, 'r--' , label=\"Training Loss\")\n",
        "  plt.plot  ( epochs, val_loss ,  'b', label=\"Validation loss\")\n",
        "  plt.title ('Training and validation loss'   )\n",
        "  plt.ylabel('loss')\n",
        "  plt.xlabel('epochs')\n",
        "\n",
        "  plt.legend()\n",
        "  plt.figure()\n",
        "  plt.show()"
      ],
      "metadata": {
        "id": "AiMprI_zOIoM"
      },
      "execution_count": 14,
      "outputs": []
    },
    {
      "cell_type": "markdown",
      "source": [
        "####Mostrar matriz de confusión"
      ],
      "metadata": {
        "id": "lnp8G36-XAoZ"
      }
    },
    {
      "cell_type": "code",
      "source": [
        "def mostrarMatrizConf(test_predict,test_generator):\n",
        "  \n",
        "  predict = []\n",
        "\n",
        "  for i in test_predict:\n",
        "    predict.append(int(np.argmax(i)))\n",
        "\n",
        "  predict = np.asarray(predict)\n",
        "\n",
        "  accuracy = accuracy_score(test_generator.classes, np.asarray(predict))\n",
        "  print(accuracy)\n",
        "\n",
        "  cm = confusion_matrix(test_generator.classes, predict)\n",
        "\n",
        "  cm_display = ConfusionMatrixDisplay(confusion_matrix = cm, display_labels = class_names,)\n",
        "\n",
        "  cm_display.plot(cmap = 'YlOrRd' )\n",
        "  plt.show()\n",
        "\n",
        "  #plt.figure(figsize = (10,10))\n",
        "  #sns.heatmap(cm, annot=True, cmap='YlGn', xticklabels=class_names, yticklabels=class_names)\n",
        "  #plt.show()"
      ],
      "metadata": {
        "id": "x0jUeWOAYE8_"
      },
      "execution_count": 15,
      "outputs": []
    },
    {
      "cell_type": "markdown",
      "source": [
        "####Ajustar el modelo"
      ],
      "metadata": {
        "id": "rnhyadIQXIM9"
      }
    },
    {
      "cell_type": "code",
      "source": [
        "def calcularHistorial(model,history,validation_generator,test_generator):\n",
        "\n",
        "  val_acc_per_epoch = history.history['val_accuracy']\n",
        "  best_epoch = val_acc_per_epoch.index(max(val_acc_per_epoch))+1\n",
        "  print('Mejor epoca: %d' % (best_epoch,))\n",
        "\n",
        "  eval_result = model.evaluate(validation_generator, steps =validation_steps, verbose =1)\n",
        "  \n",
        "  print(\"[test loss, test accuracy]:\", eval_result)\n",
        "  test_predict = model.predict(test_generator, steps = test_generator.n // 1, verbose =1)\n",
        " \n",
        "  mostrarMatrizConf(test_predict,test_generator)\n",
        "  mostrarGrafico(history)\n"
      ],
      "metadata": {
        "id": "olZWNjIvXnaX"
      },
      "execution_count": 16,
      "outputs": []
    },
    {
      "cell_type": "markdown",
      "source": [
        "###Ejecutar el Primer Modelo"
      ],
      "metadata": {
        "id": "mv90pW6_XreI"
      }
    },
    {
      "cell_type": "markdown",
      "source": [
        "# Segundo intento"
      ],
      "metadata": {
        "id": "5o_7_OEnLRXg"
      }
    },
    {
      "cell_type": "markdown",
      "source": [
        "## Modelo.v.2"
      ],
      "metadata": {
        "id": "IDrSSLhOyCN3"
      }
    },
    {
      "cell_type": "markdown",
      "source": [
        "Vamos a usar otro modelo distinto para comprobar que tal funciona"
      ],
      "metadata": {
        "id": "_nIOtczjyHIZ"
      }
    },
    {
      "cell_type": "code",
      "source": [
        "model = tf.keras.Sequential([\n",
        "    layers.Conv2D(32, 3, padding=\"same\", activation=\"relu\",input_shape=(img_height,img_width,3)),\n",
        "    layers.Conv2D(32, 3, activation=\"relu\"),\n",
        "    layers.MaxPooling2D(2, 2),\n",
        "    layers.Dropout(0.25),\n",
        "    layers.Conv2D(64, 3, padding='same', activation='relu'),\n",
        "    layers.Conv2D(64, 3, activation='relu'),\n",
        "    layers.MaxPooling2D(2, 2),\n",
        "    layers.Dropout(0.25),\n",
        "    layers.Flatten(),\n",
        "    layers.Dense(512, activation='relu'),\n",
        "    layers.Dropout(0.1),\n",
        "    layers.Dense(4, activation =\"sigmoid\")\n",
        "])\n",
        "\n",
        "learning_rate=0.0001\n",
        "\n",
        "model.compile(optimizer= keras.optimizers.RMSprop(lr=learning_rate, decay=1e-6),loss=\"categorical_crossentropy\",metrics=[\"accuracy\"])\n",
        "#model.compile(optimizer=keras.optimizers.Adam(learning_rate), loss='categorical_crossentropy',metrics=['accuracy'])\n",
        "model.summary()"
      ],
      "metadata": {
        "colab": {
          "base_uri": "https://localhost:8080/"
        },
        "id": "0Kh_MQ8gyGR8",
        "outputId": "e59a1434-cfca-4587-94c7-6a0fcee0b0cc"
      },
      "execution_count": 17,
      "outputs": [
        {
          "output_type": "stream",
          "name": "stdout",
          "text": [
            "Model: \"sequential\"\n",
            "_________________________________________________________________\n",
            " Layer (type)                Output Shape              Param #   \n",
            "=================================================================\n",
            " conv2d (Conv2D)             (None, 224, 224, 32)      896       \n",
            "                                                                 \n",
            " conv2d_1 (Conv2D)           (None, 222, 222, 32)      9248      \n",
            "                                                                 \n",
            " max_pooling2d (MaxPooling2D  (None, 111, 111, 32)     0         \n",
            " )                                                               \n",
            "                                                                 \n",
            " dropout (Dropout)           (None, 111, 111, 32)      0         \n",
            "                                                                 \n",
            " conv2d_2 (Conv2D)           (None, 111, 111, 64)      18496     \n",
            "                                                                 \n",
            " conv2d_3 (Conv2D)           (None, 109, 109, 64)      36928     \n",
            "                                                                 \n",
            " max_pooling2d_1 (MaxPooling  (None, 54, 54, 64)       0         \n",
            " 2D)                                                             \n",
            "                                                                 \n",
            " dropout_1 (Dropout)         (None, 54, 54, 64)        0         \n",
            "                                                                 \n",
            " flatten (Flatten)           (None, 186624)            0         \n",
            "                                                                 \n",
            " dense (Dense)               (None, 512)               95552000  \n",
            "                                                                 \n",
            " dropout_2 (Dropout)         (None, 512)               0         \n",
            "                                                                 \n",
            " dense_1 (Dense)             (None, 4)                 2052      \n",
            "                                                                 \n",
            "=================================================================\n",
            "Total params: 95,619,620\n",
            "Trainable params: 95,619,620\n",
            "Non-trainable params: 0\n",
            "_________________________________________________________________\n"
          ]
        },
        {
          "output_type": "stream",
          "name": "stderr",
          "text": [
            "/usr/local/lib/python3.7/dist-packages/keras/optimizers/optimizer_v2/rmsprop.py:135: UserWarning: The `lr` argument is deprecated, use `learning_rate` instead.\n",
            "  super(RMSprop, self).__init__(name, **kwargs)\n"
          ]
        }
      ]
    },
    {
      "cell_type": "code",
      "source": [
        "history = model.fit(train_generator,epochs=20,validation_data=validation_generator,validation_steps=validation_steps, shuffle=False)\n",
        "calcularHistorial(model,history,validation_generator,test_generator)"
      ],
      "metadata": {
        "colab": {
          "base_uri": "https://localhost:8080/",
          "height": 1000
        },
        "id": "mTMucXHq2ZpW",
        "outputId": "f6d91b5f-10c2-45b3-8114-77970ca02f18"
      },
      "execution_count": 18,
      "outputs": [
        {
          "output_type": "stream",
          "name": "stdout",
          "text": [
            "Epoch 1/20\n",
            "50/50 [==============================] - 1203s 24s/step - loss: 1.5108 - accuracy: 0.4825 - val_loss: 1.1808 - val_accuracy: 0.4938\n",
            "Epoch 2/20\n",
            "50/50 [==============================] - 8s 153ms/step - loss: 1.0885 - accuracy: 0.5532 - val_loss: 1.0906 - val_accuracy: 0.5375\n",
            "Epoch 3/20\n",
            "50/50 [==============================] - 8s 153ms/step - loss: 0.9982 - accuracy: 0.5920 - val_loss: 1.0872 - val_accuracy: 0.5562\n",
            "Epoch 4/20\n",
            "50/50 [==============================] - 8s 154ms/step - loss: 0.9290 - accuracy: 0.6334 - val_loss: 1.1147 - val_accuracy: 0.5750\n",
            "Epoch 5/20\n",
            "50/50 [==============================] - 8s 155ms/step - loss: 0.8964 - accuracy: 0.6467 - val_loss: 1.5634 - val_accuracy: 0.2875\n",
            "Epoch 6/20\n",
            "50/50 [==============================] - 8s 156ms/step - loss: 0.8752 - accuracy: 0.6518 - val_loss: 1.0666 - val_accuracy: 0.5375\n",
            "Epoch 7/20\n",
            "50/50 [==============================] - 8s 167ms/step - loss: 0.8423 - accuracy: 0.6728 - val_loss: 1.0851 - val_accuracy: 0.5625\n",
            "Epoch 8/20\n",
            "50/50 [==============================] - 8s 158ms/step - loss: 0.8069 - accuracy: 0.6836 - val_loss: 1.0858 - val_accuracy: 0.5500\n",
            "Epoch 9/20\n",
            "50/50 [==============================] - 8s 159ms/step - loss: 0.8028 - accuracy: 0.6830 - val_loss: 1.4054 - val_accuracy: 0.4688\n",
            "Epoch 10/20\n",
            "50/50 [==============================] - 8s 160ms/step - loss: 0.7863 - accuracy: 0.6906 - val_loss: 1.4007 - val_accuracy: 0.4313\n",
            "Epoch 11/20\n",
            "50/50 [==============================] - 8s 160ms/step - loss: 0.7581 - accuracy: 0.6926 - val_loss: 1.2231 - val_accuracy: 0.5375\n",
            "Epoch 12/20\n",
            "50/50 [==============================] - 8s 160ms/step - loss: 0.7670 - accuracy: 0.6970 - val_loss: 1.0562 - val_accuracy: 0.5437\n",
            "Epoch 13/20\n",
            "50/50 [==============================] - 8s 159ms/step - loss: 0.7450 - accuracy: 0.7110 - val_loss: 1.1555 - val_accuracy: 0.5125\n",
            "Epoch 14/20\n",
            "50/50 [==============================] - 8s 159ms/step - loss: 0.7330 - accuracy: 0.7142 - val_loss: 1.0790 - val_accuracy: 0.5625\n",
            "Epoch 15/20\n",
            "50/50 [==============================] - 8s 158ms/step - loss: 0.7248 - accuracy: 0.7015 - val_loss: 1.1224 - val_accuracy: 0.5500\n",
            "Epoch 16/20\n",
            "50/50 [==============================] - 8s 158ms/step - loss: 0.7102 - accuracy: 0.7193 - val_loss: 1.0975 - val_accuracy: 0.5875\n",
            "Epoch 17/20\n",
            "50/50 [==============================] - 8s 158ms/step - loss: 0.6842 - accuracy: 0.7269 - val_loss: 1.1138 - val_accuracy: 0.5625\n",
            "Epoch 18/20\n",
            "50/50 [==============================] - 8s 157ms/step - loss: 0.6927 - accuracy: 0.7237 - val_loss: 1.5340 - val_accuracy: 0.5250\n",
            "Epoch 19/20\n",
            "50/50 [==============================] - 8s 158ms/step - loss: 0.6756 - accuracy: 0.7257 - val_loss: 1.1259 - val_accuracy: 0.6062\n",
            "Epoch 20/20\n",
            "50/50 [==============================] - 8s 159ms/step - loss: 0.6683 - accuracy: 0.7288 - val_loss: 1.1262 - val_accuracy: 0.5312\n",
            "Mejor epoca: 19\n",
            "5/5 [==============================] - 1s 100ms/step - loss: 1.0884 - accuracy: 0.5500\n",
            "[test loss, test accuracy]: [1.0884373188018799, 0.550000011920929]\n",
            "120/120 [==============================] - 107s 897ms/step\n",
            "0.6166666666666667\n"
          ]
        },
        {
          "output_type": "display_data",
          "data": {
            "text/plain": [
              "<Figure size 432x288 with 2 Axes>"
            ],
            "image/png": "[encoded data removed]"
          },
          "metadata": {
            "needs_background": "light"
          }
        },
        {
          "output_type": "display_data",
          "data": {
            "text/plain": [
              "<Figure size 432x288 with 1 Axes>"
            ],
            "image/png": "[encoded data removed]"
          },
          "metadata": {
            "needs_background": "light"
          }
        },
        {
          "output_type": "display_data",
          "data": {
            "text/plain": [
              "<Figure size 432x288 with 1 Axes>"
            ],
            "image/png": "[encoded data removed]"
          },
          "metadata": {
            "needs_background": "light"
          }
        },
        {
          "output_type": "display_data",
          "data": {
            "text/plain": [
              "<Figure size 432x288 with 0 Axes>"
            ]
          },
          "metadata": {}
        }
      ]
    },
    {
      "cell_type": "markdown",
      "source": [
        "#Añadir varios callbacks"
      ],
      "metadata": {
        "id": "kImXnE-SO1e0"
      }
    },
    {
      "cell_type": "markdown",
      "source": [
        "Para ver si conseguimos mejorar un poco el modelo antes de pasar a la interpretabilidad de este, vamos a añadir ciertos callbacks que pueden sernos utiles"
      ],
      "metadata": {
        "id": "Ri6Rw9Z6O4qP"
      }
    },
    {
      "cell_type": "code",
      "source": [
        "from keras.callbacks import EarlyStopping, ModelCheckpoint, ReduceLROnPlateau\n",
        "\n",
        "earlyStopping = EarlyStopping(monitor='val_loss', patience=10, verbose=0, mode='min')\n",
        "mcp_save = ModelCheckpoint('.mdl_wts.hdf5', save_best_only=True, monitor='val_loss', mode='min')\n",
        "reduce_lr_loss = ReduceLROnPlateau(monitor='val_loss', factor=0.1, patience=7, verbose=1, min_delta=1e-4, mode='min')"
      ],
      "metadata": {
        "id": "25SRHOMIPBOJ"
      },
      "execution_count": 19,
      "outputs": []
    },
    {
      "cell_type": "markdown",
      "source": [
        "Volvemos a lanzar el modelo"
      ],
      "metadata": {
        "id": "oWt9QDQbPo9K"
      }
    },
    {
      "cell_type": "code",
      "source": [
        "history = model.fit(train_generator,epochs=20,validation_data=validation_generator,validation_steps=validation_steps, shuffle=False, callbacks=[earlyStopping, mcp_save, reduce_lr_loss])\n",
        "calcularHistorial(model,history,validation_generator,test_generator)"
      ],
      "metadata": {
        "colab": {
          "base_uri": "https://localhost:8080/",
          "height": 450
        },
        "id": "YofdOFumPSB4",
        "outputId": "702bf643-9379-4b0f-bfb5-7eb99a56effe"
      },
      "execution_count": 20,
      "outputs": [
        {
          "output_type": "stream",
          "name": "stdout",
          "text": [
            "Epoch 1/20\n",
            "50/50 [==============================] - 11s 219ms/step - loss: 0.6688 - accuracy: 0.7377 - val_loss: 1.1024 - val_accuracy: 0.5312 - lr: 1.0000e-04\n",
            "Epoch 2/20\n",
            "50/50 [==============================] - 8s 158ms/step - loss: 0.6407 - accuracy: 0.7447 - val_loss: 1.1886 - val_accuracy: 0.5312 - lr: 1.0000e-04\n",
            "Epoch 3/20\n",
            "22/50 [============>.................] - ETA: 4s - loss: 0.6681 - accuracy: 0.7372"
          ]
        },
        {
          "output_type": "error",
          "ename": "KeyboardInterrupt",
          "evalue": "ignored",
          "traceback": [
            "\u001b[0;31m---------------------------------------------------------------------------\u001b[0m",
            "\u001b[0;31mKeyboardInterrupt\u001b[0m                         Traceback (most recent call last)",
            "\u001b[0;32m<ipython-input-20-687b70cfb34b>\u001b[0m in \u001b[0;36m<module>\u001b[0;34m\u001b[0m\n\u001b[0;32m----> 1\u001b[0;31m \u001b[0mhistory\u001b[0m \u001b[0;34m=\u001b[0m \u001b[0mmodel\u001b[0m\u001b[0;34m.\u001b[0m\u001b[0mfit\u001b[0m\u001b[0;34m(\u001b[0m\u001b[0mtrain_generator\u001b[0m\u001b[0;34m,\u001b[0m\u001b[0mepochs\u001b[0m\u001b[0;34m=\u001b[0m\u001b[0;36m20\u001b[0m\u001b[0;34m,\u001b[0m\u001b[0mvalidation_data\u001b[0m\u001b[0;34m=\u001b[0m\u001b[0mvalidation_generator\u001b[0m\u001b[0;34m,\u001b[0m\u001b[0mvalidation_steps\u001b[0m\u001b[0;34m=\u001b[0m\u001b[0mvalidation_steps\u001b[0m\u001b[0;34m,\u001b[0m \u001b[0mshuffle\u001b[0m\u001b[0;34m=\u001b[0m\u001b[0;32mFalse\u001b[0m\u001b[0;34m,\u001b[0m \u001b[0mcallbacks\u001b[0m\u001b[0;34m=\u001b[0m\u001b[0;34m[\u001b[0m\u001b[0mearlyStopping\u001b[0m\u001b[0;34m,\u001b[0m \u001b[0mmcp_save\u001b[0m\u001b[0;34m,\u001b[0m \u001b[0mreduce_lr_loss\u001b[0m\u001b[0;34m]\u001b[0m\u001b[0;34m)\u001b[0m\u001b[0;34m\u001b[0m\u001b[0;34m\u001b[0m\u001b[0m\n\u001b[0m\u001b[1;32m      2\u001b[0m \u001b[0mcalcularHistorial\u001b[0m\u001b[0;34m(\u001b[0m\u001b[0mmodel\u001b[0m\u001b[0;34m,\u001b[0m\u001b[0mhistory\u001b[0m\u001b[0;34m,\u001b[0m\u001b[0mvalidation_generator\u001b[0m\u001b[0;34m,\u001b[0m\u001b[0mtest_generator\u001b[0m\u001b[0;34m)\u001b[0m\u001b[0;34m\u001b[0m\u001b[0;34m\u001b[0m\u001b[0m\n",
            "\u001b[0;32m/usr/local/lib/python3.7/dist-packages/keras/utils/traceback_utils.py\u001b[0m in \u001b[0;36merror_handler\u001b[0;34m(*args, **kwargs)\u001b[0m\n\u001b[1;32m     62\u001b[0m     \u001b[0mfiltered_tb\u001b[0m \u001b[0;34m=\u001b[0m \u001b[0;32mNone\u001b[0m\u001b[0;34m\u001b[0m\u001b[0;34m\u001b[0m\u001b[0m\n\u001b[1;32m     63\u001b[0m     \u001b[0;32mtry\u001b[0m\u001b[0;34m:\u001b[0m\u001b[0;34m\u001b[0m\u001b[0;34m\u001b[0m\u001b[0m\n\u001b[0;32m---> 64\u001b[0;31m       \u001b[0;32mreturn\u001b[0m \u001b[0mfn\u001b[0m\u001b[0;34m(\u001b[0m\u001b[0;34m*\u001b[0m\u001b[0margs\u001b[0m\u001b[0;34m,\u001b[0m \u001b[0;34m**\u001b[0m\u001b[0mkwargs\u001b[0m\u001b[0;34m)\u001b[0m\u001b[0;34m\u001b[0m\u001b[0;34m\u001b[0m\u001b[0m\n\u001b[0m\u001b[1;32m     65\u001b[0m     \u001b[0;32mexcept\u001b[0m \u001b[0mException\u001b[0m \u001b[0;32mas\u001b[0m \u001b[0me\u001b[0m\u001b[0;34m:\u001b[0m  \u001b[0;31m# pylint: disable=broad-except\u001b[0m\u001b[0;34m\u001b[0m\u001b[0;34m\u001b[0m\u001b[0m\n\u001b[1;32m     66\u001b[0m       \u001b[0mfiltered_tb\u001b[0m \u001b[0;34m=\u001b[0m \u001b[0m_process_traceback_frames\u001b[0m\u001b[0;34m(\u001b[0m\u001b[0me\u001b[0m\u001b[0;34m.\u001b[0m\u001b[0m__traceback__\u001b[0m\u001b[0;34m)\u001b[0m\u001b[0;34m\u001b[0m\u001b[0;34m\u001b[0m\u001b[0m\n",
            "\u001b[0;32m/usr/local/lib/python3.7/dist-packages/keras/engine/training.py\u001b[0m in \u001b[0;36mfit\u001b[0;34m(self, x, y, batch_size, epochs, verbose, callbacks, validation_split, validation_data, shuffle, class_weight, sample_weight, initial_epoch, steps_per_epoch, validation_steps, validation_batch_size, validation_freq, max_queue_size, workers, use_multiprocessing)\u001b[0m\n\u001b[1;32m   1407\u001b[0m                 _r=1):\n\u001b[1;32m   1408\u001b[0m               \u001b[0mcallbacks\u001b[0m\u001b[0;34m.\u001b[0m\u001b[0mon_train_batch_begin\u001b[0m\u001b[0;34m(\u001b[0m\u001b[0mstep\u001b[0m\u001b[0;34m)\u001b[0m\u001b[0;34m\u001b[0m\u001b[0;34m\u001b[0m\u001b[0m\n\u001b[0;32m-> 1409\u001b[0;31m               \u001b[0mtmp_logs\u001b[0m \u001b[0;34m=\u001b[0m \u001b[0mself\u001b[0m\u001b[0;34m.\u001b[0m\u001b[0mtrain_function\u001b[0m\u001b[0;34m(\u001b[0m\u001b[0miterator\u001b[0m\u001b[0;34m)\u001b[0m\u001b[0;34m\u001b[0m\u001b[0;34m\u001b[0m\u001b[0m\n\u001b[0m\u001b[1;32m   1410\u001b[0m               \u001b[0;32mif\u001b[0m \u001b[0mdata_handler\u001b[0m\u001b[0;34m.\u001b[0m\u001b[0mshould_sync\u001b[0m\u001b[0;34m:\u001b[0m\u001b[0;34m\u001b[0m\u001b[0;34m\u001b[0m\u001b[0m\n\u001b[1;32m   1411\u001b[0m                 \u001b[0mcontext\u001b[0m\u001b[0;34m.\u001b[0m\u001b[0masync_wait\u001b[0m\u001b[0;34m(\u001b[0m\u001b[0;34m)\u001b[0m\u001b[0;34m\u001b[0m\u001b[0;34m\u001b[0m\u001b[0m\n",
            "\u001b[0;32m/usr/local/lib/python3.7/dist-packages/tensorflow/python/util/traceback_utils.py\u001b[0m in \u001b[0;36merror_handler\u001b[0;34m(*args, **kwargs)\u001b[0m\n\u001b[1;32m    148\u001b[0m     \u001b[0mfiltered_tb\u001b[0m \u001b[0;34m=\u001b[0m \u001b[0;32mNone\u001b[0m\u001b[0;34m\u001b[0m\u001b[0;34m\u001b[0m\u001b[0m\n\u001b[1;32m    149\u001b[0m     \u001b[0;32mtry\u001b[0m\u001b[0;34m:\u001b[0m\u001b[0;34m\u001b[0m\u001b[0;34m\u001b[0m\u001b[0m\n\u001b[0;32m--> 150\u001b[0;31m       \u001b[0;32mreturn\u001b[0m \u001b[0mfn\u001b[0m\u001b[0;34m(\u001b[0m\u001b[0;34m*\u001b[0m\u001b[0margs\u001b[0m\u001b[0;34m,\u001b[0m \u001b[0;34m**\u001b[0m\u001b[0mkwargs\u001b[0m\u001b[0;34m)\u001b[0m\u001b[0;34m\u001b[0m\u001b[0;34m\u001b[0m\u001b[0m\n\u001b[0m\u001b[1;32m    151\u001b[0m     \u001b[0;32mexcept\u001b[0m \u001b[0mException\u001b[0m \u001b[0;32mas\u001b[0m \u001b[0me\u001b[0m\u001b[0;34m:\u001b[0m\u001b[0;34m\u001b[0m\u001b[0;34m\u001b[0m\u001b[0m\n\u001b[1;32m    152\u001b[0m       \u001b[0mfiltered_tb\u001b[0m \u001b[0;34m=\u001b[0m \u001b[0m_process_traceback_frames\u001b[0m\u001b[0;34m(\u001b[0m\u001b[0me\u001b[0m\u001b[0;34m.\u001b[0m\u001b[0m__traceback__\u001b[0m\u001b[0;34m)\u001b[0m\u001b[0;34m\u001b[0m\u001b[0;34m\u001b[0m\u001b[0m\n",
            "\u001b[0;32m/usr/local/lib/python3.7/dist-packages/tensorflow/python/eager/def_function.py\u001b[0m in \u001b[0;36m__call__\u001b[0;34m(self, *args, **kwds)\u001b[0m\n\u001b[1;32m    913\u001b[0m \u001b[0;34m\u001b[0m\u001b[0m\n\u001b[1;32m    914\u001b[0m       \u001b[0;32mwith\u001b[0m \u001b[0mOptionalXlaContext\u001b[0m\u001b[0;34m(\u001b[0m\u001b[0mself\u001b[0m\u001b[0;34m.\u001b[0m\u001b[0m_jit_compile\u001b[0m\u001b[0;34m)\u001b[0m\u001b[0;34m:\u001b[0m\u001b[0;34m\u001b[0m\u001b[0;34m\u001b[0m\u001b[0m\n\u001b[0;32m--> 915\u001b[0;31m         \u001b[0mresult\u001b[0m \u001b[0;34m=\u001b[0m \u001b[0mself\u001b[0m\u001b[0;34m.\u001b[0m\u001b[0m_call\u001b[0m\u001b[0;34m(\u001b[0m\u001b[0;34m*\u001b[0m\u001b[0margs\u001b[0m\u001b[0;34m,\u001b[0m \u001b[0;34m**\u001b[0m\u001b[0mkwds\u001b[0m\u001b[0;34m)\u001b[0m\u001b[0;34m\u001b[0m\u001b[0;34m\u001b[0m\u001b[0m\n\u001b[0m\u001b[1;32m    916\u001b[0m \u001b[0;34m\u001b[0m\u001b[0m\n\u001b[1;32m    917\u001b[0m       \u001b[0mnew_tracing_count\u001b[0m \u001b[0;34m=\u001b[0m \u001b[0mself\u001b[0m\u001b[0;34m.\u001b[0m\u001b[0mexperimental_get_tracing_count\u001b[0m\u001b[0;34m(\u001b[0m\u001b[0;34m)\u001b[0m\u001b[0;34m\u001b[0m\u001b[0;34m\u001b[0m\u001b[0m\n",
            "\u001b[0;32m/usr/local/lib/python3.7/dist-packages/tensorflow/python/eager/def_function.py\u001b[0m in \u001b[0;36m_call\u001b[0;34m(self, *args, **kwds)\u001b[0m\n\u001b[1;32m    945\u001b[0m       \u001b[0;31m# In this case we have created variables on the first call, so we run the\u001b[0m\u001b[0;34m\u001b[0m\u001b[0;34m\u001b[0m\u001b[0;34m\u001b[0m\u001b[0m\n\u001b[1;32m    946\u001b[0m       \u001b[0;31m# defunned version which is guaranteed to never create variables.\u001b[0m\u001b[0;34m\u001b[0m\u001b[0;34m\u001b[0m\u001b[0;34m\u001b[0m\u001b[0m\n\u001b[0;32m--> 947\u001b[0;31m       \u001b[0;32mreturn\u001b[0m \u001b[0mself\u001b[0m\u001b[0;34m.\u001b[0m\u001b[0m_stateless_fn\u001b[0m\u001b[0;34m(\u001b[0m\u001b[0;34m*\u001b[0m\u001b[0margs\u001b[0m\u001b[0;34m,\u001b[0m \u001b[0;34m**\u001b[0m\u001b[0mkwds\u001b[0m\u001b[0;34m)\u001b[0m  \u001b[0;31m# pylint: disable=not-callable\u001b[0m\u001b[0;34m\u001b[0m\u001b[0;34m\u001b[0m\u001b[0m\n\u001b[0m\u001b[1;32m    948\u001b[0m     \u001b[0;32melif\u001b[0m \u001b[0mself\u001b[0m\u001b[0;34m.\u001b[0m\u001b[0m_stateful_fn\u001b[0m \u001b[0;32mis\u001b[0m \u001b[0;32mnot\u001b[0m \u001b[0;32mNone\u001b[0m\u001b[0;34m:\u001b[0m\u001b[0;34m\u001b[0m\u001b[0;34m\u001b[0m\u001b[0m\n\u001b[1;32m    949\u001b[0m       \u001b[0;31m# Release the lock early so that multiple threads can perform the call\u001b[0m\u001b[0;34m\u001b[0m\u001b[0;34m\u001b[0m\u001b[0;34m\u001b[0m\u001b[0m\n",
            "\u001b[0;32m/usr/local/lib/python3.7/dist-packages/tensorflow/python/eager/function.py\u001b[0m in \u001b[0;36m__call__\u001b[0;34m(self, *args, **kwargs)\u001b[0m\n\u001b[1;32m   2452\u001b[0m        filtered_flat_args) = self._maybe_define_function(args, kwargs)\n\u001b[1;32m   2453\u001b[0m     return graph_function._call_flat(\n\u001b[0;32m-> 2454\u001b[0;31m         filtered_flat_args, captured_inputs=graph_function.captured_inputs)  # pylint: disable=protected-access\n\u001b[0m\u001b[1;32m   2455\u001b[0m \u001b[0;34m\u001b[0m\u001b[0m\n\u001b[1;32m   2456\u001b[0m   \u001b[0;34m@\u001b[0m\u001b[0mproperty\u001b[0m\u001b[0;34m\u001b[0m\u001b[0;34m\u001b[0m\u001b[0m\n",
            "\u001b[0;32m/usr/local/lib/python3.7/dist-packages/tensorflow/python/eager/function.py\u001b[0m in \u001b[0;36m_call_flat\u001b[0;34m(self, args, captured_inputs, cancellation_manager)\u001b[0m\n\u001b[1;32m   1859\u001b[0m       \u001b[0;31m# No tape is watching; skip to running the function.\u001b[0m\u001b[0;34m\u001b[0m\u001b[0;34m\u001b[0m\u001b[0;34m\u001b[0m\u001b[0m\n\u001b[1;32m   1860\u001b[0m       return self._build_call_outputs(self._inference_function.call(\n\u001b[0;32m-> 1861\u001b[0;31m           ctx, args, cancellation_manager=cancellation_manager))\n\u001b[0m\u001b[1;32m   1862\u001b[0m     forward_backward = self._select_forward_and_backward_functions(\n\u001b[1;32m   1863\u001b[0m         \u001b[0margs\u001b[0m\u001b[0;34m,\u001b[0m\u001b[0;34m\u001b[0m\u001b[0;34m\u001b[0m\u001b[0m\n",
            "\u001b[0;32m/usr/local/lib/python3.7/dist-packages/tensorflow/python/eager/function.py\u001b[0m in \u001b[0;36mcall\u001b[0;34m(self, ctx, args, cancellation_manager)\u001b[0m\n\u001b[1;32m    500\u001b[0m               \u001b[0minputs\u001b[0m\u001b[0;34m=\u001b[0m\u001b[0margs\u001b[0m\u001b[0;34m,\u001b[0m\u001b[0;34m\u001b[0m\u001b[0;34m\u001b[0m\u001b[0m\n\u001b[1;32m    501\u001b[0m               \u001b[0mattrs\u001b[0m\u001b[0;34m=\u001b[0m\u001b[0mattrs\u001b[0m\u001b[0;34m,\u001b[0m\u001b[0;34m\u001b[0m\u001b[0;34m\u001b[0m\u001b[0m\n\u001b[0;32m--> 502\u001b[0;31m               ctx=ctx)\n\u001b[0m\u001b[1;32m    503\u001b[0m         \u001b[0;32melse\u001b[0m\u001b[0;34m:\u001b[0m\u001b[0;34m\u001b[0m\u001b[0;34m\u001b[0m\u001b[0m\n\u001b[1;32m    504\u001b[0m           outputs = execute.execute_with_cancellation(\n",
            "\u001b[0;32m/usr/local/lib/python3.7/dist-packages/tensorflow/python/eager/execute.py\u001b[0m in \u001b[0;36mquick_execute\u001b[0;34m(op_name, num_outputs, inputs, attrs, ctx, name)\u001b[0m\n\u001b[1;32m     53\u001b[0m     \u001b[0mctx\u001b[0m\u001b[0;34m.\u001b[0m\u001b[0mensure_initialized\u001b[0m\u001b[0;34m(\u001b[0m\u001b[0;34m)\u001b[0m\u001b[0;34m\u001b[0m\u001b[0;34m\u001b[0m\u001b[0m\n\u001b[1;32m     54\u001b[0m     tensors = pywrap_tfe.TFE_Py_Execute(ctx._handle, device_name, op_name,\n\u001b[0;32m---> 55\u001b[0;31m                                         inputs, attrs, num_outputs)\n\u001b[0m\u001b[1;32m     56\u001b[0m   \u001b[0;32mexcept\u001b[0m \u001b[0mcore\u001b[0m\u001b[0;34m.\u001b[0m\u001b[0m_NotOkStatusException\u001b[0m \u001b[0;32mas\u001b[0m \u001b[0me\u001b[0m\u001b[0;34m:\u001b[0m\u001b[0;34m\u001b[0m\u001b[0;34m\u001b[0m\u001b[0m\n\u001b[1;32m     57\u001b[0m     \u001b[0;32mif\u001b[0m \u001b[0mname\u001b[0m \u001b[0;32mis\u001b[0m \u001b[0;32mnot\u001b[0m \u001b[0;32mNone\u001b[0m\u001b[0;34m:\u001b[0m\u001b[0;34m\u001b[0m\u001b[0;34m\u001b[0m\u001b[0m\n",
            "\u001b[0;31mKeyboardInterrupt\u001b[0m: "
          ]
        }
      ]
    },
    {
      "cell_type": "markdown",
      "source": [
        "Vamos a hacer una comprobación de los mejores pesos, que para eso los guardamos."
      ],
      "metadata": {
        "id": "xgmNnIPRcQD5"
      }
    },
    {
      "cell_type": "code",
      "source": [
        "model.load_weights(filepath = '.mdl_wts.hdf5')\n",
        "test_predict = model.predict(test_generator, steps = test_generator.n // 1, verbose =1)\n",
        " \n",
        "mostrarMatrizConf(test_predict,test_generator)"
      ],
      "metadata": {
        "id": "rQ-7a4xXccnh"
      },
      "execution_count": null,
      "outputs": []
    },
    {
      "cell_type": "markdown",
      "source": [
        "Parece que no nos ha dado mucho resultado, vamos a probar ahora con class weights"
      ],
      "metadata": {
        "id": "XtugAwlfdD0B"
      }
    },
    {
      "cell_type": "markdown",
      "source": [
        "#Añadir class weights "
      ],
      "metadata": {
        "id": "RINIMdsvRNnF"
      }
    },
    {
      "cell_type": "markdown",
      "source": [
        "Como queremos fijarnos mucho en lo que son las celulas con cancer y \"menos\" en las benignas, vamos a añadir class weights para comprobar si mejora la matriz de confusion"
      ],
      "metadata": {
        "id": "sWa11NjyRRoT"
      }
    },
    {
      "cell_type": "code",
      "source": [
        "from sklearn.utils import class_weight \n",
        "class_weights = class_weight.compute_class_weight('balanced',classes= np.unique(train_generator.classes), y= train_generator.classes )\n",
        "\n",
        "train_class_weights = dict(enumerate(class_weights))\n",
        "\n",
        "print(class_weights)\n",
        "print(train_class_weights)\n",
        "train_class_weights[0] *= 2 #como la altogrado es en la que más tenemos que fijarnos, vamos a aumentarle el peso al doble\n",
        "print(train_class_weights)"
      ],
      "metadata": {
        "id": "x1p5opNMRg9Y"
      },
      "execution_count": null,
      "outputs": []
    },
    {
      "cell_type": "code",
      "source": [
        "history = model.fit(train_generator,epochs=20,validation_data=validation_generator,validation_steps=validation_steps, shuffle=False,class_weight=train_class_weights, callbacks=[earlyStopping, mcp_save, reduce_lr_loss])\n",
        "calcularHistorial(model,history,validation_generator,test_generator)"
      ],
      "metadata": {
        "id": "w5uF6uxUdM0W"
      },
      "execution_count": null,
      "outputs": []
    },
    {
      "cell_type": "code",
      "source": [
        "model.load_weights(filepath = '.mdl_wts.hdf5')\n",
        "test_predict = model.predict(test_generator, steps = test_generator.n // 1, verbose =1)\n",
        " \n",
        "mostrarMatrizConf(test_predict,test_generator)"
      ],
      "metadata": {
        "id": "mfRu3g8yeKQH"
      },
      "execution_count": null,
      "outputs": []
    },
    {
      "cell_type": "markdown",
      "source": [
        "#Interprerpretabilidad usando heatmaps"
      ],
      "metadata": {
        "id": "kRPoME6VeUb6"
      }
    },
    {
      "cell_type": "markdown",
      "source": [
        "Predecir una unica foto:"
      ],
      "metadata": {
        "id": "VU_p_IOpuCIw"
      }
    },
    {
      "cell_type": "code",
      "source": [
        "img_test,label_test = test_generator.__getitem__(0)\n",
        "preds = model.predict(test_generator,steps=1)\n",
        "print(\"Predicted:\", preds)"
      ],
      "metadata": {
        "colab": {
          "base_uri": "https://localhost:8080/"
        },
        "id": "L9oHDXHduEAu",
        "outputId": "f5ecfd5e-81d2-431f-d7d1-64bd827cde5a"
      },
      "execution_count": 23,
      "outputs": [
        {
          "output_type": "stream",
          "name": "stdout",
          "text": [
            "1/1 [==============================] - 0s 31ms/step\n",
            "Predicted: [[0.66845304 0.47475234 0.7999081  0.269708  ]]\n"
          ]
        }
      ]
    },
    {
      "cell_type": "code",
      "source": [
        "print (label_test[0])\n",
        "plt.imshow(img_test[0])\n",
        "plt.show()"
      ],
      "metadata": {
        "colab": {
          "base_uri": "https://localhost:8080/",
          "height": 287
        },
        "id": "XTt7CiL72gTt",
        "outputId": "2022ba41-8ad1-4391-a46b-3666b1be6c05"
      },
      "execution_count": 52,
      "outputs": [
        {
          "output_type": "stream",
          "name": "stdout",
          "text": [
            "[1. 0. 0. 0.]\n"
          ]
        },
        {
          "output_type": "display_data",
          "data": {
            "text/plain": [
              "<Figure size 432x288 with 1 Axes>"
            ],
            "image/png": "[encoded data removed]"
          },
          "metadata": {
            "needs_background": "light"
          }
        }
      ]
    },
    {
      "cell_type": "code",
      "source": [
        "import keras.backend as K\n",
        "\n",
        "with tf.GradientTape() as tape:\n",
        "  last_conv_layer = model.get_layer('conv2d_3')\n",
        "  iterate = tf.keras.models.Model([model.inputs], [model.output, last_conv_layer.output])\n",
        "  model_out, last_conv_layer = iterate(x)\n",
        "  class_out = model_out[:, np.argmax(model_out[0])]\n",
        "  grads = tape.gradient(class_out, last_conv_layer)\n",
        "  pooled_grads = K.mean(grads, axis=(0, 1, 2))\n",
        "  \n",
        "heatmap = tf.reduce_mean(tf.multiply(pooled_grads, last_conv_layer), axis=-1)"
      ],
      "metadata": {
        "id": "j4X56vv8zFgL"
      },
      "execution_count": 47,
      "outputs": []
    },
    {
      "cell_type": "code",
      "source": [],
      "metadata": {
        "id": "H-_yxAiJ2Pq7"
      },
      "execution_count": null,
      "outputs": []
    },
    {
      "cell_type": "code",
      "source": [
        "\n",
        "heatmap = np.maximum(heatmap, 0)\n",
        "heatmap /= np.max(heatmap)\n",
        "# heatmap = heatmap[0].reshape((8, 8,3))\n",
        "plt.matshow(heatmap[0])\n",
        "plt.show()"
      ],
      "metadata": {
        "colab": {
          "base_uri": "https://localhost:8080/",
          "height": 275
        },
        "id": "zpB5dbFFz8ng",
        "outputId": "20c5dad8-59c2-40d5-c20b-405d85db9341"
      },
      "execution_count": 50,
      "outputs": [
        {
          "output_type": "display_data",
          "data": {
            "text/plain": [
              "<Figure size 288x288 with 1 Axes>"
            ],
            "image/png": "[encoded data removed]"
          },
          "metadata": {
            "needs_background": "light"
          }
        }
      ]
    },
    {
      "cell_type": "markdown",
      "source": [
        "Vamos a usar un codigo de heatmap ya diseñado"
      ],
      "metadata": {
        "id": "k0BSaLvceaN3"
      }
    },
    {
      "cell_type": "code",
      "source": [
        "from IPython.display import Image, display\n",
        "import matplotlib.cm as cm\n",
        "\n",
        "last_conv_layer_name = \"conv2d_3\"\n",
        "\n",
        "def get_img_array(img_path, size):\n",
        "    # `img` is a PIL image of size 299x299\n",
        "    img = keras.preprocessing.image.load_img(img_path, target_size=size)\n",
        "    # `array` is a float32 Numpy array of shape (299, 299, 3)\n",
        "    array = keras.preprocessing.image.img_to_array(img)\n",
        "    # We add a dimension to transform our array into a \"batch\"\n",
        "    # of size (1, 299, 299, 3)\n",
        "    array = np.expand_dims(array, axis=0)\n",
        "    return array\n",
        "\n",
        "\n",
        "def make_gradcam_heatmap(img_array, model, last_conv_layer_name, pred_index=None):\n",
        "    # First, we create a model that maps the input image to the activations\n",
        "    # of the last conv layer as well as the output predictions\n",
        "    grad_model = tf.keras.models.Model(\n",
        "        [model.inputs], [model.get_layer(last_conv_layer_name).output, model.output]\n",
        "    )\n",
        "\n",
        "    # Then, we compute the gradient of the top predicted class for our input image\n",
        "    # with respect to the activations of the last conv layer\n",
        "    with tf.GradientTape() as tape:\n",
        "        last_conv_layer_output, preds = grad_model(img_array)\n",
        "        if pred_index is None:\n",
        "            pred_index = tf.argmax(preds[0])\n",
        "        class_channel = preds[:, pred_index]\n",
        "\n",
        "    # This is the gradient of the output neuron (top predicted or chosen)\n",
        "    # with regard to the output feature map of the last conv layer\n",
        "    grads = tape.gradient(class_channel, last_conv_layer_output)\n",
        "\n",
        "    # This is a vector where each entry is the mean intensity of the gradient\n",
        "    # over a specific feature map channel\n",
        "    pooled_grads = tf.reduce_mean(grads, axis=(0, 1, 2))\n",
        "\n",
        "    # We multiply each channel in the feature map array\n",
        "    # by \"how important this channel is\" with regard to the top predicted class\n",
        "    # then sum all the channels to obtain the heatmap class activation\n",
        "    last_conv_layer_output = last_conv_layer_output[0]\n",
        "    heatmap = last_conv_layer_output @ pooled_grads[..., tf.newaxis]\n",
        "    heatmap = tf.squeeze(heatmap)\n",
        "\n",
        "    # For visualization purpose, we will also normalize the heatmap between 0 & 1\n",
        "    heatmap = tf.maximum(heatmap, 0) / tf.math.reduce_max(heatmap)\n",
        "    return heatmap.numpy()"
      ],
      "metadata": {
        "id": "Lm0WQVS2eZuu"
      },
      "execution_count": 83,
      "outputs": []
    },
    {
      "cell_type": "code",
      "source": [
        "# Print what the top predicted class \n",
        "\n",
        "# conv2d_3\n",
        "preds = model.predict(test_generator.__getitem__(0))\n",
        "print(\"Predicted:\", preds)\n",
        "\n",
        "# Generate class activation heatmap\n",
        "heatmap = make_gradcam_heatmap(img_array, model, last_conv_layer_name)\n",
        "\n",
        "# Display heatmap\n",
        "plt.matshow(heatmap)\n",
        "plt.show()"
      ],
      "metadata": {
        "id": "HteRUx8AfVXC"
      },
      "execution_count": null,
      "outputs": []
    },
    {
      "cell_type": "markdown",
      "source": [
        "#Funciones utíles para visualización de datos"
      ],
      "metadata": {
        "id": "9dpxnt0QNw0Q"
      }
    },
    {
      "cell_type": "markdown",
      "source": [
        "Vamos a definir estas funciones para que las imagenes junto a las predicciones hechas sobre ellas:"
      ],
      "metadata": {
        "id": "DIWkqM-8MqF3"
      }
    },
    {
      "cell_type": "code",
      "source": [
        "# Plot the first X test images, their predicted labels, and the true labels.\n",
        "# Color correct predictions in blue and incorrect predictions in red.\n",
        "\n",
        "def plot_image(i, predictions_array, true_label, img):\n",
        "  img =  img[i]\n",
        "  label_index =  np.where(true_label[i]==1)[0][0]\n",
        "  plt.grid(False)\n",
        "  plt.xticks([])\n",
        "  plt.yticks([])\n",
        "\n",
        "  plt.imshow(img)\n",
        "\n",
        "  predicted_label = np.argmax(predictions_array)\n",
        "\n",
        "  if predicted_label == label_index:\n",
        "    color = 'blue'\n",
        "  else:\n",
        "    color = 'red'\n",
        "\n",
        "  plt.xlabel(\"{} {:2.0f}% ({})\".format(predicted_label,\n",
        "                                100*np.max(predictions_array),\n",
        "                                true_label),\n",
        "                                color=color)\n",
        "def plot_value_array(i, predictions_array, true_label):\n",
        "  true_label = np.where(true_label[i]==1)[0][0]\n",
        "  plt.grid(False)\n",
        "  plt.xticks(range(4))\n",
        "  plt.yticks([])\n",
        "  thisplot = plt.bar(range(4), predictions_array, color=\"#777777\")\n",
        "  plt.ylim([0, 1])\n",
        "  predicted_label = np.argmax(predictions_array)\n",
        "\n",
        "  thisplot[predicted_label].set_color('red')\n",
        "  thisplot[true_label].set_color('blue')  \n",
        "\n",
        "\n",
        "def plot_images_result(predictions,true_label,img):\n",
        "  num_rows = 1\n",
        "  num_cols = 1\n",
        "  offset=2;\n",
        "  num_images = num_rows*num_cols\n",
        "  plt.figure(figsize=(25*num_cols, 25*num_rows))\n",
        "  for i in range(num_images):\n",
        "    plt.subplot(num_rows, 2*num_cols, 2*i+1)\n",
        "    plot_image(i, predictions[i], true_label, img)\n",
        "    plt.subplot(num_rows, 2*num_cols, 2*i+2)\n",
        "    plot_value_array(i, predictions[i], true_label)\n",
        "    plt.tight_layout()\n",
        "  plt.show()\n",
        "\n",
        "\n"
      ],
      "metadata": {
        "id": "IIuCQWhqLw8t"
      },
      "execution_count": 76,
      "outputs": []
    },
    {
      "cell_type": "code",
      "source": [
        "#print(predictions[0])\n",
        "import math\n",
        "test_predict = model.predict(test_generator, steps = test_generator.n // 1, verbose =1)\n",
        "i=0\n",
        "\n",
        "number_of_examples = len(test_generator.filenames)\n",
        "print(\"Numero de imagenes de test\",len(test_generator.filenames))\n",
        "number_of_generator_calls = math.ceil(number_of_examples / (1.0 * batch_size)) \n",
        "# 1.0 above is to skip integer division\n",
        "\n",
        "test_labels = []\n",
        "img_test = []\n",
        "\n",
        "for i in range( test_generator.__len__() ):\n",
        "    test_labels.extend(\n",
        "        test_generator.__getitem__( i )[1] \n",
        "        )\n",
        "    img_test.extend( test_generator.__getitem__( i )[0] )\n",
        "    \n",
        "print(len(test_labels))\n",
        "print(test_labels[60])#esto debería guardar todas las labels de todas las imagenes del modelo \n",
        "\n",
        "print(len(test_labels))\n",
        "\n",
        "i=0\n",
        "for p in test_predict[60]:\n",
        "  print(f'{i} {p*100:.3f}%')\n",
        "  i=i+1"
      ],
      "metadata": {
        "colab": {
          "base_uri": "https://localhost:8080/"
        },
        "id": "tjL48RjkN1E4",
        "outputId": "3347c4b9-6e67-4ce9-a70e-73c19b56195e"
      },
      "execution_count": null,
      "outputs": [
        {
          "output_type": "stream",
          "name": "stdout",
          "text": [
            "120/120 [==============================] - 1s 5ms/step\n",
            "Numero de imagenes de test 120\n",
            "120\n",
            "[0. 0. 1. 0.]\n",
            "120\n",
            "0 62.822%\n",
            "1 68.529%\n",
            "2 51.116%\n",
            "3 21.073%\n"
          ]
        }
      ]
    },
    {
      "cell_type": "code",
      "source": [
        "print(np.where(test_labels[60]==1)[0][0])"
      ],
      "metadata": {
        "colab": {
          "base_uri": "https://localhost:8080/"
        },
        "id": "QOG9CF__YBaf",
        "outputId": "3d3c11d9-6335-4645-9f16-5d222093417c"
      },
      "execution_count": null,
      "outputs": [
        {
          "output_type": "stream",
          "name": "stdout",
          "text": [
            "2\n"
          ]
        }
      ]
    },
    {
      "cell_type": "code",
      "source": [
        "plot_images_result(test_predict,test_labels,img_test)"
      ],
      "metadata": {
        "colab": {
          "base_uri": "https://localhost:8080/",
          "height": 171
        },
        "id": "PNj-RulZMoY9",
        "outputId": "6cbe3e91-4b2e-4aaf-a1cf-02d44246cbe9"
      },
      "execution_count": 1,
      "outputs": [
        {
          "output_type": "error",
          "ename": "NameError",
          "evalue": "ignored",
          "traceback": [
            "\u001b[0;31m---------------------------------------------------------------------------\u001b[0m",
            "\u001b[0;31mNameError\u001b[0m                                 Traceback (most recent call last)",
            "\u001b[0;32m<ipython-input-1-fb149fa62a86>\u001b[0m in \u001b[0;36m<module>\u001b[0;34m\u001b[0m\n\u001b[0;32m----> 1\u001b[0;31m \u001b[0mplot_images_result\u001b[0m\u001b[0;34m(\u001b[0m\u001b[0mtest_predict\u001b[0m\u001b[0;34m,\u001b[0m\u001b[0mtest_labels\u001b[0m\u001b[0;34m,\u001b[0m\u001b[0mimg_test\u001b[0m\u001b[0;34m)\u001b[0m\u001b[0;34m\u001b[0m\u001b[0;34m\u001b[0m\u001b[0m\n\u001b[0m",
            "\u001b[0;31mNameError\u001b[0m: name 'plot_images_result' is not defined"
          ]
        }
      ]
    },
    {
      "cell_type": "code",
      "source": [
        "model.predict(img_test, steps = test_generator.n // 1, verbose =1)"
      ],
      "metadata": {
        "colab": {
          "base_uri": "https://localhost:8080/",
          "height": 724
        },
        "id": "wDdY-GEIf6-y",
        "outputId": "dbe4dbed-272d-4704-dbf5-6b10b72a23e1"
      },
      "execution_count": 87,
      "outputs": [
        {
          "output_type": "error",
          "ename": "ValueError",
          "evalue": "ignored",
          "traceback": [
            "\u001b[0;31m---------------------------------------------------------------------------\u001b[0m",
            "\u001b[0;31mValueError\u001b[0m                                Traceback (most recent call last)",
            "\u001b[0;32m<ipython-input-87-d26362b9ed32>\u001b[0m in \u001b[0;36m<module>\u001b[0;34m\u001b[0m\n\u001b[0;32m----> 1\u001b[0;31m \u001b[0mmodel\u001b[0m\u001b[0;34m.\u001b[0m\u001b[0mpredict\u001b[0m\u001b[0;34m(\u001b[0m\u001b[0mimg_test\u001b[0m\u001b[0;34m,\u001b[0m \u001b[0msteps\u001b[0m \u001b[0;34m=\u001b[0m \u001b[0mtest_generator\u001b[0m\u001b[0;34m.\u001b[0m\u001b[0mn\u001b[0m \u001b[0;34m//\u001b[0m \u001b[0;36m1\u001b[0m\u001b[0;34m,\u001b[0m \u001b[0mverbose\u001b[0m \u001b[0;34m=\u001b[0m\u001b[0;36m1\u001b[0m\u001b[0;34m)\u001b[0m\u001b[0;34m\u001b[0m\u001b[0;34m\u001b[0m\u001b[0m\n\u001b[0m",
            "\u001b[0;32m/usr/local/lib/python3.7/dist-packages/keras/utils/traceback_utils.py\u001b[0m in \u001b[0;36merror_handler\u001b[0;34m(*args, **kwargs)\u001b[0m\n\u001b[1;32m     65\u001b[0m     \u001b[0;32mexcept\u001b[0m \u001b[0mException\u001b[0m \u001b[0;32mas\u001b[0m \u001b[0me\u001b[0m\u001b[0;34m:\u001b[0m  \u001b[0;31m# pylint: disable=broad-except\u001b[0m\u001b[0;34m\u001b[0m\u001b[0;34m\u001b[0m\u001b[0m\n\u001b[1;32m     66\u001b[0m       \u001b[0mfiltered_tb\u001b[0m \u001b[0;34m=\u001b[0m \u001b[0m_process_traceback_frames\u001b[0m\u001b[0;34m(\u001b[0m\u001b[0me\u001b[0m\u001b[0;34m.\u001b[0m\u001b[0m__traceback__\u001b[0m\u001b[0;34m)\u001b[0m\u001b[0;34m\u001b[0m\u001b[0;34m\u001b[0m\u001b[0m\n\u001b[0;32m---> 67\u001b[0;31m       \u001b[0;32mraise\u001b[0m \u001b[0me\u001b[0m\u001b[0;34m.\u001b[0m\u001b[0mwith_traceback\u001b[0m\u001b[0;34m(\u001b[0m\u001b[0mfiltered_tb\u001b[0m\u001b[0;34m)\u001b[0m \u001b[0;32mfrom\u001b[0m \u001b[0;32mNone\u001b[0m\u001b[0;34m\u001b[0m\u001b[0;34m\u001b[0m\u001b[0m\n\u001b[0m\u001b[1;32m     68\u001b[0m     \u001b[0;32mfinally\u001b[0m\u001b[0;34m:\u001b[0m\u001b[0;34m\u001b[0m\u001b[0;34m\u001b[0m\u001b[0m\n\u001b[1;32m     69\u001b[0m       \u001b[0;32mdel\u001b[0m \u001b[0mfiltered_tb\u001b[0m\u001b[0;34m\u001b[0m\u001b[0;34m\u001b[0m\u001b[0m\n",
            "\u001b[0;32m/usr/local/lib/python3.7/dist-packages/keras/engine/training.py\u001b[0m in \u001b[0;36mtf__predict_function\u001b[0;34m(iterator)\u001b[0m\n\u001b[1;32m     13\u001b[0m                 \u001b[0;32mtry\u001b[0m\u001b[0;34m:\u001b[0m\u001b[0;34m\u001b[0m\u001b[0;34m\u001b[0m\u001b[0m\n\u001b[1;32m     14\u001b[0m                     \u001b[0mdo_return\u001b[0m \u001b[0;34m=\u001b[0m \u001b[0;32mTrue\u001b[0m\u001b[0;34m\u001b[0m\u001b[0;34m\u001b[0m\u001b[0m\n\u001b[0;32m---> 15\u001b[0;31m                     \u001b[0mretval_\u001b[0m \u001b[0;34m=\u001b[0m \u001b[0mag__\u001b[0m\u001b[0;34m.\u001b[0m\u001b[0mconverted_call\u001b[0m\u001b[0;34m(\u001b[0m\u001b[0mag__\u001b[0m\u001b[0;34m.\u001b[0m\u001b[0mld\u001b[0m\u001b[0;34m(\u001b[0m\u001b[0mstep_function\u001b[0m\u001b[0;34m)\u001b[0m\u001b[0;34m,\u001b[0m \u001b[0;34m(\u001b[0m\u001b[0mag__\u001b[0m\u001b[0;34m.\u001b[0m\u001b[0mld\u001b[0m\u001b[0;34m(\u001b[0m\u001b[0mself\u001b[0m\u001b[0;34m)\u001b[0m\u001b[0;34m,\u001b[0m \u001b[0mag__\u001b[0m\u001b[0;34m.\u001b[0m\u001b[0mld\u001b[0m\u001b[0;34m(\u001b[0m\u001b[0miterator\u001b[0m\u001b[0;34m)\u001b[0m\u001b[0;34m)\u001b[0m\u001b[0;34m,\u001b[0m \u001b[0;32mNone\u001b[0m\u001b[0;34m,\u001b[0m \u001b[0mfscope\u001b[0m\u001b[0;34m)\u001b[0m\u001b[0;34m\u001b[0m\u001b[0;34m\u001b[0m\u001b[0m\n\u001b[0m\u001b[1;32m     16\u001b[0m                 \u001b[0;32mexcept\u001b[0m\u001b[0;34m:\u001b[0m\u001b[0;34m\u001b[0m\u001b[0;34m\u001b[0m\u001b[0m\n\u001b[1;32m     17\u001b[0m                     \u001b[0mdo_return\u001b[0m \u001b[0;34m=\u001b[0m \u001b[0;32mFalse\u001b[0m\u001b[0;34m\u001b[0m\u001b[0;34m\u001b[0m\u001b[0m\n",
            "\u001b[0;31mValueError\u001b[0m: in user code:\n\n    File \"/usr/local/lib/python3.7/dist-packages/keras/engine/training.py\", line 1845, in predict_function  *\n        return step_function(self, iterator)\n    File \"/usr/local/lib/python3.7/dist-packages/keras/engine/training.py\", line 1834, in step_function  **\n        outputs = model.distribute_strategy.run(run_step, args=(data,))\n    File \"/usr/local/lib/python3.7/dist-packages/keras/engine/training.py\", line 1823, in run_step  **\n        outputs = model.predict_step(data)\n    File \"/usr/local/lib/python3.7/dist-packages/keras/engine/training.py\", line 1791, in predict_step\n        return self(x, training=False)\n    File \"/usr/local/lib/python3.7/dist-packages/keras/utils/traceback_utils.py\", line 67, in error_handler\n        raise e.with_traceback(filtered_tb) from None\n    File \"/usr/local/lib/python3.7/dist-packages/keras/engine/input_spec.py\", line 200, in assert_input_compatibility\n        raise ValueError(f'Layer \"{layer_name}\" expects {len(input_spec)} input(s),'\n\n    ValueError: Layer \"sequential\" expects 1 input(s), but it received 120 input tensors. Inputs received: [<tf.Tensor 'IteratorGetNext:0' shape=(2, 224, 3) dtype=float32>, <tf.Tensor 'IteratorGetNext:1' shape=(2, 224, 3) dtype=float32>, <tf.Tensor 'IteratorGetNext:2' shape=(2, 224, 3) dtype=float32>, <tf.Tensor 'IteratorGetNext:3' shape=(2, 224, 3) dtype=float32>, <tf.Tensor 'IteratorGetNext:4' shape=(2, 224, 3) dtype=float32>, <tf.Tensor 'IteratorGetNext:5' shape=(2, 224, 3) dtype=float32>, <tf.Tensor 'IteratorGetNext:6' shape=(2, 224, 3) dtype=float32>, <tf.Tensor 'IteratorGetNext:7' shape=(2, 224, 3) dtype=float32>, <tf.Tensor 'IteratorGetNext:8' shape=(2, 224, 3) dtype=float32>, <tf.Tensor 'IteratorGetNext:9' shape=(2, 224, 3) dtype=float32>, <tf.Tensor 'IteratorGetNext:10' shape=(2, 224, 3) dtype=float32>, <tf.Tensor 'IteratorGetNext:11' shape=(2, 224, 3) dtype=float32>, <tf.Tensor 'IteratorGetNext:12' shape=(2, 224, 3) dtype=float32>, <tf.Tensor 'IteratorGetNext:13' shape=(2, 224, 3) dtype=float32>, <tf.Tensor 'IteratorGetNext:14' shape=(2, 224, 3) dtype=float32>, <tf.Tensor 'IteratorGetNext:15' shape=(2, 224, 3) dtype=float32>, <tf.Tensor 'IteratorGetNext:16' shape=(2, 224, 3) dtype=float32>, <tf.Tensor 'IteratorGetNext:17' shape=(2, 224, 3) dtype=float32>, <tf.Tensor 'IteratorGetNext:18' shape=(2, 224, 3) dtype=float32>, <tf.Tensor 'IteratorGetNext:19' shape=(2, 224, 3) dtype=float32>, <tf.Tensor 'IteratorGetNext:20' shape=(2, 224, 3) dtype=float32>, <tf.Tensor 'I...\n"
          ]
        }
      ]
    },
    {
      "cell_type": "markdown",
      "source": [],
      "metadata": {
        "id": "CIsUusCA3Rym"
      }
    },
    {
      "cell_type": "markdown",
      "source": [
        "# WebGrafía"
      ],
      "metadata": {
        "id": "G8DyDJAKdpKc"
      }
    },
    {
      "cell_type": "markdown",
      "source": [
        "grad-cam para heat map -> https://keras.io/examples/vision/grad_cam/ "
      ],
      "metadata": {
        "id": "faWkTv6kdkwD"
      }
    }
  ]
}