{
  "nbformat": 4,
  "nbformat_minor": 0,
  "metadata": {
    "colab": {
      "provenance": [],
      "toc_visible": true,
      "authorship_tag": "ABX9TyNAHHuFGojJ4X5MYwWwuXuM",
      "include_colab_link": true
    },
    "kernelspec": {
      "name": "python3",
      "display_name": "Python 3"
    },
    "language_info": {
      "name": "python"
    },
    "accelerator": "GPU",
    "gpuClass": "standard"
  },
  "cells": [
    {
      "cell_type": "markdown",
      "metadata": {
        "id": "view-in-github",
        "colab_type": "text"
      },
      "source": [
        "<a href=\"https://colab.research.google.com/github/Roxoner44/CalidadSoftware/blob/main/Diferentes%20Pruebas/Prueba_Balanceado_182.ipynb\" target=\"_parent\"><img src=\"https://colab.research.google.com/assets/colab-badge.svg\" alt=\"Open In Colab\"/></a>"
      ]
    },
    {
      "cell_type": "markdown",
      "source": [
        "#Prueba de ejecución con el dataet balanceado"
      ],
      "metadata": {
        "id": "3-3IUQTjKjfh"
      }
    },
    {
      "cell_type": "markdown",
      "source": [
        "Para esta ejecucion del modelo vamos a balancear el modelo \"a la baja\" reduciendo todos las clases al mismo numero de elementos, siendo este el numero de elementos que tenga la clase con menos imagenes."
      ],
      "metadata": {
        "id": "u5rx1xnbKoop"
      }
    },
    {
      "cell_type": "markdown",
      "source": [
        "#Importar Librerías"
      ],
      "metadata": {
        "id": "2J5OV_3rNkQW"
      }
    },
    {
      "cell_type": "code",
      "source": [
        "from google.colab import drive\n",
        "#Montamos el drive en el directorio /content/drive\n",
        "drive.mount(\"/content/drive\")\n",
        "\n",
        "%pip install -q -U keras-tuner\n",
        "import tensorflow as tf\n",
        "from tensorflow import keras\n",
        "\n",
        "#KERAS\n",
        "from keras import Sequential\n",
        "from keras import models\n",
        "from keras import layers\n",
        "from keras.layers import Conv2D\n",
        "from keras.layers import MaxPooling2D\n",
        "from keras.layers import Dense\n",
        "from keras.layers import Flatten\n",
        "from keras.layers import AveragePooling2D\n",
        "from keras.preprocessing.image import ImageDataGenerator\n",
        "from keras.layers import Dropout, BatchNormalization\n",
        "from keras import optimizers\n",
        "\n",
        "#UTILS\n",
        "import numpy as np\n",
        "import pandas as pd\n",
        "import matplotlib.pyplot as plt\n",
        "import pathlib\n",
        "from sklearn.metrics import accuracy_score\n",
        "from sklearn.metrics import confusion_matrix\n",
        "from sklearn.metrics import ConfusionMatrixDisplay\n",
        "import seaborn as sns\n",
        "\n",
        "print(tf.__version__)\n"
      ],
      "metadata": {
        "id": "4XEOHE2kNdrn",
        "colab": {
          "base_uri": "https://localhost:8080/"
        },
        "outputId": "ea6e8ba6-b531-4c73-bbf4-0c3a256e4b9f"
      },
      "execution_count": 1,
      "outputs": [
        {
          "output_type": "stream",
          "name": "stdout",
          "text": [
            "Mounted at /content/drive\n",
            "\u001b[K     |████████████████████████████████| 135 kB 6.6 MB/s \n",
            "\u001b[K     |████████████████████████████████| 1.6 MB 48.3 MB/s \n",
            "\u001b[?25h2.9.2\n"
          ]
        }
      ]
    },
    {
      "cell_type": "code",
      "source": [
        "#El camino donde tengo las celulas y donde voy a guardar los resultados son distintos\n",
        "CELULASPATH = \"/content/drive/My Drive/cérvix - proyecto/Celulas\"\n",
        "RESULTADOSPATH =\"/content/drive/MyDrive/ucam/Investigación/resultados\"\n",
        "\n",
        "!ls \"$CELULASPATH\"\n",
        "!ls \"$RESULTADOSPATH\"\n",
        "\n",
        "#El tamaño del batch lo podemos modificar más adelante, deberíamos tambien comprobar el numero de elementos que tiene el dataset\n",
        "batch_size = 32\n",
        "img_height = 224\n",
        "img_width = 224\n",
        "seed = 42"
      ],
      "metadata": {
        "colab": {
          "base_uri": "https://localhost:8080/"
        },
        "id": "NVuKvwUnVkjk",
        "outputId": "2e2a89f4-920b-485d-90e7-b482d563ba4d"
      },
      "execution_count": 2,
      "outputs": [
        {
          "output_type": "stream",
          "name": "stdout",
          "text": [
            "entrenamiento  test\n"
          ]
        }
      ]
    },
    {
      "cell_type": "markdown",
      "source": [
        "#Mostrar Imagenes"
      ],
      "metadata": {
        "id": "YSvQWQDcOYtL"
      }
    },
    {
      "cell_type": "code",
      "source": [
        "def plotImages(images_arr):\n",
        "    fig, axes = plt.subplots(1, 5, figsize=(20,20))\n",
        "    axes = axes.flatten()\n",
        "    for img, ax in zip( images_arr, axes):\n",
        "        ax.imshow(img)\n",
        "    plt.tight_layout()\n",
        "    plt.show()\n",
        "\n",
        "def mostrarConLabel(image_arr):\n",
        "    x,y = image_arr.next()\n",
        "    for i in range(0,3):\n",
        "      image = x[i]\n",
        "      label = y[i]\n",
        "      print (label)\n",
        "      plt.imshow(image)\n",
        "      plt.show()\n",
        "\n",
        "def mostrarConLabelMejor(image_arr,class_names):\n",
        "  x,y = image_arr.next()\n",
        "  plt.figure(figsize=(20,20))\n",
        "  for i in range(10):\n",
        "      plt.subplot(5,5,i+1)\n",
        "      plt.xticks([])\n",
        "      plt.yticks([])\n",
        "      plt.grid(False)\n",
        "      plt.imshow(x[i])\n",
        "      for j in range(4):\n",
        "         if(y[i][j]==1): break\n",
        "      plt.title(class_names[j])\n",
        "      \n",
        "  plt.show()"
      ],
      "metadata": {
        "id": "--wSaojlNiif"
      },
      "execution_count": 3,
      "outputs": []
    },
    {
      "cell_type": "markdown",
      "source": [
        "#Cargar datos Como dataframe"
      ],
      "metadata": {
        "id": "1yTUMwo5OavI"
      }
    },
    {
      "cell_type": "code",
      "source": [
        "def cargarDataframeBinario(data):\n",
        "  \"\"\"\n",
        "  Función que carga el dataframe con dos clases (benigna y altogrado) en lugar de con las clases originales\n",
        "\n",
        "  Parameters:\n",
        "    data (posixPath): path desde donde vamos a cargar las imagenes\n",
        "\n",
        "  Returns:\n",
        "    pandasDataframe: dataframe que contiene dos columnas (path y category) con todos los paths de las imagenes y sus categorias en formato binario (label encoding)\n",
        "\n",
        "  \"\"\"\n",
        "  #Guardamos todos los paths que existen en el directorio que queremos\n",
        "  lst = list(data.glob(\"*/*.tiff\"))\n",
        "  #Cramos una nueva lista\n",
        "  newLst = list() \n",
        "  #Para cada elemento de la lista de paths (Por cada imagen)\n",
        "  for l in lst:\n",
        "      #Si el directorio en el que se encuentra es \"benigna\" significa que la celula no es revisable\n",
        "      if l.parent == data / \"benigna\":\n",
        "        tipo=\"No Revisable\"\n",
        "      #El resto son revisables\n",
        "      else:\n",
        "        tipo=\"Revisable\"\n",
        "      #Añade en la lista el tipo y el path de la imagen\n",
        "      newLst.append((str(l),tipo))\n",
        "  #Devuelve el dataframe generado a partir de la lista\n",
        "  return  pd.DataFrame(newLst, columns = ['path', 'category'])\n",
        "\n",
        "def cargarDataFrameCuatroClases(data):\n",
        "  \"\"\"\n",
        "  Función que carga el dataframe con las clases originales\n",
        "\n",
        "  Parameters:\n",
        "    data (posixPath): path desde donde vamos a cargar las imagenes\n",
        "\n",
        "  Returns:\n",
        "    pandasDataframe: dataframe que contiene dos columnas (path y category) con todos los paths de las imagenes y sus categorias en formato binario (label encoding)\n",
        "\n",
        "  \"\"\"\n",
        "  #Guardamos todos los paths que existen en el directorio que queremos\n",
        "  lst = list(data.glob(\"*/*.tiff\"))\n",
        "  #Cramos una nueva lista\n",
        "  newLst = list() \n",
        "  #Para cada elemento de la lista de paths (Por cada imagen)\n",
        "  for l in lst:\n",
        "    #Guarda el tipo como el nombre del directorio en el que se encuentra\n",
        "    tipo=l.parent.name\n",
        "     #Añade en la lista el tipo y el path de la imagen\n",
        "    newLst.append((str(l),tipo)) #Devuelve el dataframe generado a partir de la lista\n",
        "  return  pd.DataFrame(newLst, columns = ['path', 'category'])"
      ],
      "metadata": {
        "id": "VoVgZNYaOloh"
      },
      "execution_count": 4,
      "outputs": []
    },
    {
      "cell_type": "markdown",
      "source": [
        "#Funciones para mostrar los datos de la ejecución"
      ],
      "metadata": {
        "id": "EdLBY9JyaOQ-"
      }
    },
    {
      "cell_type": "code",
      "source": [
        "#Recibe el history generado\n",
        "def mostrarGrafico(history):\n",
        "  acc      = history.history['accuracy' ]\n",
        "  val_acc  = history.history[ 'val_accuracy' ]\n",
        "  loss     = history.history[    'loss' ]\n",
        "  val_loss = history.history['val_loss' ]\n",
        "\n",
        "  epochs    = range(1,len(acc)+1,1) # obtener número de epochs\n",
        "\n",
        "  plt.plot  ( epochs,     acc, 'r--', label='Training acc'  )\n",
        "  plt.plot  ( epochs, val_acc,  'b', label='Validation acc')\n",
        "  plt.title ('Training and validation accuracy')\n",
        "  plt.ylabel('acc')\n",
        "  plt.xlabel('epochs')\n",
        "\n",
        "  plt.legend()\n",
        "  plt.figure()\n",
        "\n",
        "  plt.plot  ( epochs,     loss, 'r--' , label=\"Training Loss\")\n",
        "  plt.plot  ( epochs, val_loss ,  'b', label=\"Validation loss\")\n",
        "  plt.title ('Training and validation loss'   )\n",
        "  plt.ylabel('loss')\n",
        "  plt.xlabel('epochs')\n",
        "\n",
        "  plt.legend()\n",
        "  plt.figure()\n",
        "  plt.show()\n",
        "def mostrarMatrizConf(test_predict,test_generator, class_names):\n",
        "  \n",
        "  predict = []\n",
        "\n",
        "  for i in test_predict:\n",
        "    predict.append(int(np.argmax(i)))\n",
        "\n",
        "  predict = np.asarray(predict)\n",
        "\n",
        "  accuracy = accuracy_score(test_generator.classes, np.asarray(predict))\n",
        "  print(accuracy)\n",
        "\n",
        "  cm = confusion_matrix(test_generator.classes, predict)\n",
        "\n",
        "  cm_display = ConfusionMatrixDisplay(confusion_matrix = cm, display_labels = class_names,)\n",
        "\n",
        "  cm_display.plot(cmap = 'YlOrRd' )\n",
        "  plt.show()\n",
        "\n",
        "  #plt.figure(figsize = (10,10))\n",
        "  #sns.heatmap(cm, annot=True, cmap='YlGn', xticklabels=class_names, yticklabels=class_names)\n",
        "  #plt.show()\n",
        "def calcularHistorial(model,history,validation_generator,test_generator,validation_steps):\n",
        "\n",
        "  val_acc_per_epoch = history.history['val_accuracy']\n",
        "  best_epoch = val_acc_per_epoch.index(max(val_acc_per_epoch))+1\n",
        "  print('Mejor epoca: %d' % (best_epoch,))\n",
        "\n",
        "  eval_result = model.evaluate(validation_generator, steps =validation_steps, verbose =1)\n",
        "  \n",
        "  print(\"[test loss, test accuracy]:\", eval_result)\n",
        "  test_predict = model.predict(test_generator, steps = test_generator.n // 1, verbose =1)\n",
        "  class_names = list(validation_generator.class_indices.keys())\n",
        "  mostrarMatrizConf(test_predict,test_generator,class_names)\n",
        "  mostrarGrafico(history)\n"
      ],
      "metadata": {
        "id": "PwYz4pilaLjV"
      },
      "execution_count": 5,
      "outputs": []
    },
    {
      "cell_type": "markdown",
      "source": [
        "#Cargar los datos de forma dinamica"
      ],
      "metadata": {
        "id": "-_gUNWZRSBeY"
      }
    },
    {
      "cell_type": "markdown",
      "source": [
        "A pesar de conocer el numero de elementos de la clase más pequeña de antemano (182 -> bajogrado) vamos a hacer que se cargen de forma automatica por si en algun momento este numero cambia por alguna razon"
      ],
      "metadata": {
        "id": "ixICXNyfLQJn"
      }
    },
    {
      "cell_type": "markdown",
      "source": [
        "##Nivelar el dataframe"
      ],
      "metadata": {
        "id": "MhQwYa02MhiN"
      }
    },
    {
      "cell_type": "markdown",
      "source": [
        "Para esta prueba vamos a usar un codigo similar al que usamos para cargar las imagenes en el dataframe pero cargando solo las imagenes necesarias, calculando la carpeta con menos datos con anterioridad.\n",
        "\n",
        "Adeamas vamos a separar ahora el validation split para que coja el mismo numero de imagenes para cada una de las clases"
      ],
      "metadata": {
        "id": "kwLzy16UMjfF"
      }
    },
    {
      "cell_type": "code",
      "source": [
        "import random\n",
        "#mantenemos la misma seed para que siempre cargue las mismas imagenes\n",
        "random.seed(seed)\n",
        "#primero contamos los elementos en cada carpeta, para eso usamos data.glob\n",
        "#Guardamos el path en el cual se encuentran las imagenes de entrenamiento\n",
        "data_train = pathlib.Path(CELULASPATH + \"/entrenamiento\")\n",
        "#Guardamos el path en el cual se encuentran las imagenes de test\n",
        "data_test= pathlib.Path(CELULASPATH + \"/test\")\n",
        "\n",
        "#vamos a guardar el tamaño de cada clase en la siguiente lista\n",
        "num_clases = list()\n",
        "directorios =  data_train.glob(\"*/\")\n",
        "#usando (\"*/\") hacemos un recorrido por todas las carpetas o directorios\n",
        "for directorio in directorios:\n",
        "  #comprobamos que los coge bien\n",
        "  # print(directorio)\n",
        "  num_clases.append(len(list(directorio.glob('*'))))\n",
        "\n",
        "#comprobamos el numero de imagenes en cada clase\n",
        "print(num_clases)\n",
        "#comprobamos la minima clase\n",
        "min_class = np.min(num_clases)\n",
        "validation_size = round(min_class*0.1)\n",
        "print(min_class,\" \", validation_size*4,\" validacion\")\n",
        "\n",
        "df_train = pd.DataFrame(columns = ['path', 'category'])\n",
        "df_validation = pd.DataFrame(columns = ['path', 'category'])\n",
        "\n",
        "directorios = data_train.glob(\"*/\")\n",
        "\n",
        "for directorio, num_clase in zip(directorios, num_clases):\n",
        "  # print(directorio, \" \",num_clase)\n",
        "  \n",
        "  lst = list(directorio.glob(\"*.tiff\"))\n",
        "  #Cramos una nueva lista\n",
        "  newLst = list() \n",
        "  #Para cada elemento de la lista de paths (Por cada imagen)\n",
        "  for i in random.sample(range(0,num_clase),(min_class)):\n",
        "    l = lst[i]\n",
        "\n",
        "   \n",
        "    #Guarda el tipo como el nombre del directorio en el que se encuentra\n",
        "    tipo=l.parent.name\n",
        "     #Añade en la lista el tipo y el path de la imagen\n",
        "    newLst.append((str(l),tipo))\n",
        "  \n",
        "  #Devuelve el dataframe generado a partir de la lista\n",
        "  validation = newLst[:validation_size]\n",
        "  train = newLst[validation_size:]\n",
        " \n",
        "  df_train = df_train.append(pd.DataFrame(train, columns = ['path', 'category']))\n",
        "  df_validation = df_validation.append(pd.DataFrame(validation, columns = ['path', 'category']) )\n",
        "  \n",
        "\n",
        "print(\"Entrenamiento: \",df_train.groupby('category').size())\n",
        "print(\"Validacion\",df_validation.groupby('category').size())\n",
        "\n",
        "df_test = cargarDataFrameCuatroClases(data_test)\n",
        "print(\"Validacion\",df_test.groupby('category').size())\n",
        "# random.sample(range(low, high), n)"
      ],
      "metadata": {
        "colab": {
          "base_uri": "https://localhost:8080/"
        },
        "outputId": "6e17556b-497a-4941-a0f4-9d81b748ef06",
        "id": "veVrbOcFtLNj"
      },
      "execution_count": 8,
      "outputs": [
        {
          "output_type": "stream",
          "name": "stdout",
          "text": [
            "[879, 182, 293, 389]\n",
            "182   72  validacion\n",
            "Entrenamiento:  category\n",
            "altogrado    164\n",
            "ascus        164\n",
            "bajogrado    164\n",
            "benigna      164\n",
            "dtype: int64\n",
            "Validacion category\n",
            "altogrado    18\n",
            "ascus        18\n",
            "bajogrado    18\n",
            "benigna      18\n",
            "dtype: int64\n",
            "Validacion category\n",
            "altogrado    30\n",
            "ascus        30\n",
            "bajogrado    30\n",
            "benigna      30\n",
            "dtype: int64\n"
          ]
        }
      ]
    },
    {
      "cell_type": "markdown",
      "source": [
        "##Creamos los image data generators"
      ],
      "metadata": {
        "id": "lBs3V48rYZs5"
      }
    },
    {
      "cell_type": "code",
      "source": [
        "\n",
        "\n",
        "#Reescalamos los datos\n",
        "train_datagen = ImageDataGenerator(\n",
        "    rescale = 1./255,\n",
        "    horizontal_flip = True,\n",
        "    vertical_flip = True,\n",
        "    )\n",
        "\n",
        "train_generator = train_datagen.flow_from_dataframe(\n",
        "    df_train,\n",
        "    x_col = \"path\",\n",
        "    y_col=\"category\",\n",
        "    target_size = (img_height, img_width),\n",
        "    batch_size = batch_size,\n",
        "    shuffle = True,\n",
        "    class_mode = 'categorical', #vamos a usar probar con binary\n",
        "    seed = seed)\n",
        "\n",
        "validation_generator = train_datagen.flow_from_dataframe(\n",
        "    df_validation,\n",
        "    x_col = \"path\",\n",
        "    y_col=\"category\",\n",
        "    target_size=(img_height, img_width),\n",
        "    batch_size=batch_size,\n",
        "    shuffle=True,\n",
        "    class_mode='categorical',\n",
        "  \n",
        "    seed=seed) # set as validation data\n",
        "\n",
        "\n",
        "\n",
        "#Reescalamos los datos\n",
        "test_datagen = ImageDataGenerator(rescale=1./255)\n",
        "\n",
        "test_generator = test_datagen.flow_from_dataframe(df_test,x_col = \"path\",y_col=\"category\",\n",
        "                                              target_size=(img_height, img_width),\n",
        "                                              batch_size=1,\n",
        "                                              shuffle=True,\n",
        "                                            class_mode='categorical')"
      ],
      "metadata": {
        "colab": {
          "base_uri": "https://localhost:8080/"
        },
        "id": "XwzrXH9NYUeB",
        "outputId": "cd47e74c-7ffd-42a7-e322-3e02ec13bc2e"
      },
      "execution_count": 9,
      "outputs": [
        {
          "output_type": "stream",
          "name": "stdout",
          "text": [
            "Found 656 validated image filenames belonging to 4 classes.\n",
            "Found 72 validated image filenames belonging to 4 classes.\n",
            "Found 120 validated image filenames belonging to 4 classes.\n"
          ]
        }
      ]
    },
    {
      "cell_type": "markdown",
      "source": [
        "Comprobamos que los datos se cargan correctamente"
      ],
      "metadata": {
        "id": "wETOt2G4YuqY"
      }
    },
    {
      "cell_type": "code",
      "source": [],
      "metadata": {
        "id": "lm7A3wkEsipE"
      },
      "execution_count": null,
      "outputs": []
    },
    {
      "cell_type": "markdown",
      "source": [
        "#Definimos el modelo"
      ],
      "metadata": {
        "id": "OR5LB3JTYz24"
      }
    },
    {
      "cell_type": "markdown",
      "source": [
        "Vamos a usar el mismo modelo que en el ultimo intento: [Interpretabilidad_primer_modelo](https://colab.research.google.com/drive/1wKqcVY5roubjDm9fA8R3rmjGsvp2iMnY)"
      ],
      "metadata": {
        "id": "S5qHv1W8Y2tI"
      }
    },
    {
      "cell_type": "code",
      "source": [
        "steps_per_epoch = train_generator.n // batch_size\n",
        "print(\"Train Steps: \"+str(steps_per_epoch)+ \" Train Data: \"+ str(train_generator.n)+ \" Batch: \"+ str(batch_size))\n",
        "validation_steps = validation_generator.n // batch_size\n",
        "print(\"Validation Steps: \"+str(validation_steps)+ \" Validation Data: \"+ str(validation_generator.n)+ \" Batch: \"+ str(batch_size))"
      ],
      "metadata": {
        "id": "RMsGt0E6IFbO",
        "colab": {
          "base_uri": "https://localhost:8080/"
        },
        "outputId": "603a933a-f37f-4620-e7f1-d38065b4a408"
      },
      "execution_count": 10,
      "outputs": [
        {
          "output_type": "stream",
          "name": "stdout",
          "text": [
            "Train Steps: 20 Train Data: 656 Batch: 32\n",
            "Validation Steps: 2 Validation Data: 72 Batch: 32\n"
          ]
        }
      ]
    },
    {
      "cell_type": "code",
      "source": [
        "model = tf.keras.Sequential([\n",
        "    layers.Conv2D(32, 3, padding=\"same\", activation=\"relu\",input_shape=(img_height,img_width,3)),\n",
        "    layers.Conv2D(32, 3, activation=\"relu\"),\n",
        "    layers.MaxPooling2D(2, 2),\n",
        "    layers.Dropout(0.2),\n",
        "    layers.Conv2D(64, 3, padding='same', activation='relu'),\n",
        "    layers.Conv2D(64, 3, activation='relu'),\n",
        "    layers.MaxPooling2D(2, 2),\n",
        "    layers.Dropout(0.15),\n",
        "    layers.Flatten(),\n",
        "    layers.Dense(512, activation='relu'),\n",
        "    layers.Dropout(0.1),\n",
        "    layers.Dense(4, activation =\"sigmoid\")\n",
        "])\n",
        "\n",
        "learning_rate=0.0001\n",
        "\n",
        "model.compile(optimizer= keras.optimizers.RMSprop(learning_rate=learning_rate, decay=1e-6),loss=\"categorical_crossentropy\",metrics=[\"accuracy\"])\n",
        "#model.compile(optimizer=keras.optimizers.Adam(learning_rate), loss='categorical_crossentropy',metrics=['accuracy'])\n",
        "model.summary()"
      ],
      "metadata": {
        "colab": {
          "base_uri": "https://localhost:8080/"
        },
        "id": "0Kh_MQ8gyGR8",
        "outputId": "fb65b08d-74d0-4e0f-af0f-bb4e0f9215ff"
      },
      "execution_count": 11,
      "outputs": [
        {
          "output_type": "stream",
          "name": "stdout",
          "text": [
            "Model: \"sequential\"\n",
            "_________________________________________________________________\n",
            " Layer (type)                Output Shape              Param #   \n",
            "=================================================================\n",
            " conv2d (Conv2D)             (None, 224, 224, 32)      896       \n",
            "                                                                 \n",
            " conv2d_1 (Conv2D)           (None, 222, 222, 32)      9248      \n",
            "                                                                 \n",
            " max_pooling2d (MaxPooling2D  (None, 111, 111, 32)     0         \n",
            " )                                                               \n",
            "                                                                 \n",
            " dropout (Dropout)           (None, 111, 111, 32)      0         \n",
            "                                                                 \n",
            " conv2d_2 (Conv2D)           (None, 111, 111, 64)      18496     \n",
            "                                                                 \n",
            " conv2d_3 (Conv2D)           (None, 109, 109, 64)      36928     \n",
            "                                                                 \n",
            " max_pooling2d_1 (MaxPooling  (None, 54, 54, 64)       0         \n",
            " 2D)                                                             \n",
            "                                                                 \n",
            " dropout_1 (Dropout)         (None, 54, 54, 64)        0         \n",
            "                                                                 \n",
            " flatten (Flatten)           (None, 186624)            0         \n",
            "                                                                 \n",
            " dense (Dense)               (None, 512)               95552000  \n",
            "                                                                 \n",
            " dropout_2 (Dropout)         (None, 512)               0         \n",
            "                                                                 \n",
            " dense_1 (Dense)             (None, 4)                 2052      \n",
            "                                                                 \n",
            "=================================================================\n",
            "Total params: 95,619,620\n",
            "Trainable params: 95,619,620\n",
            "Non-trainable params: 0\n",
            "_________________________________________________________________\n"
          ]
        }
      ]
    },
    {
      "cell_type": "code",
      "source": [
        "from keras.callbacks import EarlyStopping, ModelCheckpoint, ReduceLROnPlateau\n",
        "\n",
        "earlyStopping = EarlyStopping(monitor='val_loss', patience=100, verbose=0, mode='min', min_delta =1e-4)\n",
        "mcp_save = ModelCheckpoint('.mdl_wts.hdf5', save_best_only=True, monitor='val_loss', mode='min')\n",
        "reduce_lr_loss = ReduceLROnPlateau(monitor='val_loss', factor=0.1, patience=75, verbose=1, min_delta=1e-4, mode='min')"
      ],
      "metadata": {
        "id": "25SRHOMIPBOJ"
      },
      "execution_count": 12,
      "outputs": []
    },
    {
      "cell_type": "code",
      "source": [
        "from sklearn.utils import class_weight \n",
        "class_weights = class_weight.compute_class_weight('balanced',classes= np.unique(train_generator.classes), y= train_generator.classes )\n",
        "\n",
        "train_class_weights = dict(enumerate(class_weights))\n",
        "\n",
        "print(class_weights)\n",
        "print(train_class_weights)\n",
        "train_class_weights[0] *= 1.5 #como la altogrado es en la que más tenemos que fijarnos, vamos a aumentarle el peso al doble\n",
        "train_class_weights[1] *= 1.35 #como la altogrado es en la que más tenemos que fijarnos, vamos a aumentarle el peso al doble\n",
        "train_class_weights[2] *= 1.4 #como la altogrado es en la que más tenemos que fijarnos, vamos a aumentarle el peso al doble\n",
        "print(train_class_weights)"
      ],
      "metadata": {
        "colab": {
          "base_uri": "https://localhost:8080/"
        },
        "id": "x1p5opNMRg9Y",
        "outputId": "38681cb1-fe1c-469e-a03a-66125b54e746"
      },
      "execution_count": 13,
      "outputs": [
        {
          "output_type": "stream",
          "name": "stdout",
          "text": [
            "[1. 1. 1. 1.]\n",
            "{0: 1.0, 1: 1.0, 2: 1.0, 3: 1.0}\n",
            "{0: 1.5, 1: 1.35, 2: 1.4, 3: 1.0}\n"
          ]
        }
      ]
    },
    {
      "cell_type": "markdown",
      "source": [
        "Lanzamos el modelo con 600 epocas"
      ],
      "metadata": {
        "id": "8DPQVFHLbB-D"
      }
    },
    {
      "cell_type": "code",
      "source": [
        "history = model.fit(train_generator,epochs=600,validation_data=validation_generator,validation_steps=validation_steps, shuffle=False,class_weight=train_class_weights, callbacks=[earlyStopping, mcp_save, reduce_lr_loss])\n",
        "calcularHistorial(model,history,validation_generator,test_generator,validation_steps)"
      ],
      "metadata": {
        "colab": {
          "base_uri": "https://localhost:8080/",
          "height": 1000
        },
        "id": "w5uF6uxUdM0W",
        "outputId": "c6966ce3-76ff-4ccf-d092-b237916e69d4"
      },
      "execution_count": 14,
      "outputs": [
        {
          "output_type": "stream",
          "name": "stdout",
          "text": [
            "Epoch 1/600\n",
            "21/21 [==============================] - 225s 11s/step - loss: 3.9165 - accuracy: 0.2515 - val_loss: 1.4275 - val_accuracy: 0.2500 - lr: 1.0000e-04\n",
            "Epoch 2/600\n",
            "21/21 [==============================] - 6s 293ms/step - loss: 1.8867 - accuracy: 0.2698 - val_loss: 1.3888 - val_accuracy: 0.2500 - lr: 1.0000e-04\n",
            "Epoch 3/600\n",
            "21/21 [==============================] - 6s 294ms/step - loss: 1.8135 - accuracy: 0.2790 - val_loss: 1.3843 - val_accuracy: 0.2344 - lr: 1.0000e-04\n",
            "Epoch 4/600\n",
            "21/21 [==============================] - 6s 291ms/step - loss: 1.7935 - accuracy: 0.3323 - val_loss: 1.3641 - val_accuracy: 0.3906 - lr: 1.0000e-04\n",
            "Epoch 5/600\n",
            "21/21 [==============================] - 6s 290ms/step - loss: 1.7116 - accuracy: 0.3659 - val_loss: 1.3142 - val_accuracy: 0.3438 - lr: 1.0000e-04\n",
            "Epoch 6/600\n",
            "21/21 [==============================] - 3s 154ms/step - loss: 1.6785 - accuracy: 0.4116 - val_loss: 1.3594 - val_accuracy: 0.3125 - lr: 1.0000e-04\n",
            "Epoch 7/600\n",
            "21/21 [==============================] - 3s 154ms/step - loss: 1.6461 - accuracy: 0.4024 - val_loss: 1.3216 - val_accuracy: 0.3281 - lr: 1.0000e-04\n",
            "Epoch 8/600\n",
            "21/21 [==============================] - 3s 154ms/step - loss: 1.5889 - accuracy: 0.4497 - val_loss: 1.3806 - val_accuracy: 0.3125 - lr: 1.0000e-04\n",
            "Epoch 9/600\n",
            "21/21 [==============================] - 6s 298ms/step - loss: 1.5419 - accuracy: 0.4588 - val_loss: 1.2536 - val_accuracy: 0.4219 - lr: 1.0000e-04\n",
            "Epoch 10/600\n",
            "21/21 [==============================] - 3s 155ms/step - loss: 1.5203 - accuracy: 0.4787 - val_loss: 1.2868 - val_accuracy: 0.4219 - lr: 1.0000e-04\n",
            "Epoch 11/600\n",
            "21/21 [==============================] - 6s 292ms/step - loss: 1.4870 - accuracy: 0.4878 - val_loss: 1.2181 - val_accuracy: 0.4375 - lr: 1.0000e-04\n",
            "Epoch 12/600\n",
            "21/21 [==============================] - 6s 291ms/step - loss: 1.4456 - accuracy: 0.5152 - val_loss: 1.1989 - val_accuracy: 0.4531 - lr: 1.0000e-04\n",
            "Epoch 13/600\n",
            "21/21 [==============================] - 3s 156ms/step - loss: 1.4552 - accuracy: 0.5152 - val_loss: 1.2035 - val_accuracy: 0.4531 - lr: 1.0000e-04\n",
            "Epoch 14/600\n",
            "21/21 [==============================] - 3s 155ms/step - loss: 1.3943 - accuracy: 0.5259 - val_loss: 1.2837 - val_accuracy: 0.4219 - lr: 1.0000e-04\n",
            "Epoch 15/600\n",
            "21/21 [==============================] - 6s 293ms/step - loss: 1.3955 - accuracy: 0.5320 - val_loss: 1.1787 - val_accuracy: 0.4531 - lr: 1.0000e-04\n",
            "Epoch 16/600\n",
            "21/21 [==============================] - 6s 296ms/step - loss: 1.3830 - accuracy: 0.5488 - val_loss: 1.1465 - val_accuracy: 0.5000 - lr: 1.0000e-04\n",
            "Epoch 17/600\n",
            "21/21 [==============================] - 3s 156ms/step - loss: 1.3657 - accuracy: 0.5351 - val_loss: 1.2011 - val_accuracy: 0.4219 - lr: 1.0000e-04\n",
            "Epoch 18/600\n",
            "21/21 [==============================] - 3s 156ms/step - loss: 1.3227 - accuracy: 0.5716 - val_loss: 1.3130 - val_accuracy: 0.4062 - lr: 1.0000e-04\n",
            "Epoch 19/600\n",
            "21/21 [==============================] - 6s 296ms/step - loss: 1.3054 - accuracy: 0.5686 - val_loss: 1.1187 - val_accuracy: 0.5000 - lr: 1.0000e-04\n",
            "Epoch 20/600\n",
            "21/21 [==============================] - 4s 164ms/step - loss: 1.2879 - accuracy: 0.5854 - val_loss: 1.1483 - val_accuracy: 0.4375 - lr: 1.0000e-04\n",
            "Epoch 21/600\n",
            "21/21 [==============================] - 3s 155ms/step - loss: 1.2668 - accuracy: 0.6006 - val_loss: 1.1696 - val_accuracy: 0.4375 - lr: 1.0000e-04\n",
            "Epoch 22/600\n",
            "21/21 [==============================] - 6s 301ms/step - loss: 1.2751 - accuracy: 0.5976 - val_loss: 1.1181 - val_accuracy: 0.5156 - lr: 1.0000e-04\n",
            "Epoch 23/600\n",
            "21/21 [==============================] - 3s 157ms/step - loss: 1.2174 - accuracy: 0.6037 - val_loss: 1.1441 - val_accuracy: 0.4531 - lr: 1.0000e-04\n",
            "Epoch 24/600\n",
            "21/21 [==============================] - 3s 158ms/step - loss: 1.1955 - accuracy: 0.6357 - val_loss: 1.1612 - val_accuracy: 0.4688 - lr: 1.0000e-04\n",
            "Epoch 25/600\n",
            "21/21 [==============================] - 3s 157ms/step - loss: 1.2033 - accuracy: 0.6265 - val_loss: 1.1508 - val_accuracy: 0.4844 - lr: 1.0000e-04\n",
            "Epoch 26/600\n",
            "21/21 [==============================] - 6s 299ms/step - loss: 1.1670 - accuracy: 0.6189 - val_loss: 1.0992 - val_accuracy: 0.5312 - lr: 1.0000e-04\n",
            "Epoch 27/600\n",
            "21/21 [==============================] - 3s 158ms/step - loss: 1.1417 - accuracy: 0.6601 - val_loss: 1.2180 - val_accuracy: 0.4531 - lr: 1.0000e-04\n",
            "Epoch 28/600\n",
            "21/21 [==============================] - 3s 158ms/step - loss: 1.1155 - accuracy: 0.6540 - val_loss: 1.1647 - val_accuracy: 0.4375 - lr: 1.0000e-04\n",
            "Epoch 29/600\n",
            "21/21 [==============================] - 3s 157ms/step - loss: 1.1317 - accuracy: 0.6585 - val_loss: 1.1382 - val_accuracy: 0.5312 - lr: 1.0000e-04\n",
            "Epoch 30/600\n",
            "21/21 [==============================] - 6s 302ms/step - loss: 1.0762 - accuracy: 0.6494 - val_loss: 1.0892 - val_accuracy: 0.5156 - lr: 1.0000e-04\n",
            "Epoch 31/600\n",
            "21/21 [==============================] - 3s 158ms/step - loss: 1.0461 - accuracy: 0.6646 - val_loss: 1.2801 - val_accuracy: 0.4688 - lr: 1.0000e-04\n",
            "Epoch 32/600\n",
            "21/21 [==============================] - 6s 302ms/step - loss: 0.9789 - accuracy: 0.6966 - val_loss: 1.0776 - val_accuracy: 0.6250 - lr: 1.0000e-04\n",
            "Epoch 33/600\n",
            "21/21 [==============================] - 3s 159ms/step - loss: 1.0112 - accuracy: 0.6890 - val_loss: 1.1074 - val_accuracy: 0.4844 - lr: 1.0000e-04\n",
            "Epoch 34/600\n",
            "21/21 [==============================] - 3s 160ms/step - loss: 0.9555 - accuracy: 0.7119 - val_loss: 1.0894 - val_accuracy: 0.5469 - lr: 1.0000e-04\n",
            "Epoch 35/600\n",
            "21/21 [==============================] - 3s 159ms/step - loss: 0.9166 - accuracy: 0.7393 - val_loss: 1.1782 - val_accuracy: 0.5469 - lr: 1.0000e-04\n",
            "Epoch 36/600\n",
            "21/21 [==============================] - 4s 184ms/step - loss: 0.9435 - accuracy: 0.7058 - val_loss: 1.1994 - val_accuracy: 0.4219 - lr: 1.0000e-04\n",
            "Epoch 37/600\n",
            "21/21 [==============================] - 3s 158ms/step - loss: 0.8933 - accuracy: 0.7530 - val_loss: 1.2998 - val_accuracy: 0.4375 - lr: 1.0000e-04\n",
            "Epoch 38/600\n",
            "21/21 [==============================] - 3s 160ms/step - loss: 0.8811 - accuracy: 0.7530 - val_loss: 1.2018 - val_accuracy: 0.5000 - lr: 1.0000e-04\n",
            "Epoch 39/600\n",
            "21/21 [==============================] - 3s 159ms/step - loss: 0.8171 - accuracy: 0.7591 - val_loss: 1.0951 - val_accuracy: 0.5625 - lr: 1.0000e-04\n",
            "Epoch 40/600\n",
            "21/21 [==============================] - 3s 159ms/step - loss: 0.7873 - accuracy: 0.7744 - val_loss: 1.0910 - val_accuracy: 0.5469 - lr: 1.0000e-04\n",
            "Epoch 41/600\n",
            "21/21 [==============================] - 3s 160ms/step - loss: 0.7953 - accuracy: 0.7774 - val_loss: 1.1645 - val_accuracy: 0.5156 - lr: 1.0000e-04\n",
            "Epoch 42/600\n",
            "21/21 [==============================] - 3s 159ms/step - loss: 0.8132 - accuracy: 0.7683 - val_loss: 1.2012 - val_accuracy: 0.5156 - lr: 1.0000e-04\n",
            "Epoch 43/600\n",
            "21/21 [==============================] - 3s 160ms/step - loss: 0.7137 - accuracy: 0.8034 - val_loss: 1.2085 - val_accuracy: 0.5156 - lr: 1.0000e-04\n",
            "Epoch 44/600\n",
            "21/21 [==============================] - 3s 160ms/step - loss: 0.7240 - accuracy: 0.8034 - val_loss: 1.2307 - val_accuracy: 0.4844 - lr: 1.0000e-04\n",
            "Epoch 45/600\n",
            "21/21 [==============================] - 3s 159ms/step - loss: 0.7281 - accuracy: 0.8003 - val_loss: 1.3024 - val_accuracy: 0.4219 - lr: 1.0000e-04\n",
            "Epoch 46/600\n",
            "21/21 [==============================] - 3s 158ms/step - loss: 0.6414 - accuracy: 0.8338 - val_loss: 1.1888 - val_accuracy: 0.5000 - lr: 1.0000e-04\n",
            "Epoch 47/600\n",
            "21/21 [==============================] - 3s 159ms/step - loss: 0.6973 - accuracy: 0.7851 - val_loss: 1.2104 - val_accuracy: 0.5156 - lr: 1.0000e-04\n",
            "Epoch 48/600\n",
            "21/21 [==============================] - 3s 159ms/step - loss: 0.5973 - accuracy: 0.8277 - val_loss: 1.2461 - val_accuracy: 0.4844 - lr: 1.0000e-04\n",
            "Epoch 49/600\n",
            "21/21 [==============================] - 3s 159ms/step - loss: 0.6243 - accuracy: 0.8232 - val_loss: 1.1182 - val_accuracy: 0.5938 - lr: 1.0000e-04\n",
            "Epoch 50/600\n",
            "21/21 [==============================] - 3s 159ms/step - loss: 0.5392 - accuracy: 0.8689 - val_loss: 1.2755 - val_accuracy: 0.5000 - lr: 1.0000e-04\n",
            "Epoch 51/600\n",
            "21/21 [==============================] - 3s 159ms/step - loss: 0.5503 - accuracy: 0.8476 - val_loss: 1.5175 - val_accuracy: 0.4531 - lr: 1.0000e-04\n",
            "Epoch 52/600\n",
            "21/21 [==============================] - 3s 159ms/step - loss: 0.5412 - accuracy: 0.8628 - val_loss: 1.4494 - val_accuracy: 0.5000 - lr: 1.0000e-04\n",
            "Epoch 53/600\n",
            "21/21 [==============================] - 3s 159ms/step - loss: 0.5195 - accuracy: 0.8674 - val_loss: 1.2511 - val_accuracy: 0.5156 - lr: 1.0000e-04\n",
            "Epoch 54/600\n",
            "21/21 [==============================] - 3s 158ms/step - loss: 0.5037 - accuracy: 0.8643 - val_loss: 1.2965 - val_accuracy: 0.5469 - lr: 1.0000e-04\n",
            "Epoch 55/600\n",
            "21/21 [==============================] - 3s 158ms/step - loss: 0.4214 - accuracy: 0.8918 - val_loss: 1.3325 - val_accuracy: 0.5156 - lr: 1.0000e-04\n",
            "Epoch 56/600\n",
            "21/21 [==============================] - 3s 159ms/step - loss: 0.4323 - accuracy: 0.8887 - val_loss: 1.2152 - val_accuracy: 0.5312 - lr: 1.0000e-04\n",
            "Epoch 57/600\n",
            "21/21 [==============================] - 3s 159ms/step - loss: 0.4526 - accuracy: 0.8735 - val_loss: 1.3190 - val_accuracy: 0.5938 - lr: 1.0000e-04\n",
            "Epoch 58/600\n",
            "21/21 [==============================] - 3s 158ms/step - loss: 0.4120 - accuracy: 0.8918 - val_loss: 1.2433 - val_accuracy: 0.5625 - lr: 1.0000e-04\n",
            "Epoch 59/600\n",
            "21/21 [==============================] - 3s 159ms/step - loss: 0.3594 - accuracy: 0.9146 - val_loss: 1.3923 - val_accuracy: 0.4688 - lr: 1.0000e-04\n",
            "Epoch 60/600\n",
            "21/21 [==============================] - 3s 160ms/step - loss: 0.4012 - accuracy: 0.9116 - val_loss: 1.3719 - val_accuracy: 0.5156 - lr: 1.0000e-04\n",
            "Epoch 61/600\n",
            "21/21 [==============================] - 3s 160ms/step - loss: 0.3307 - accuracy: 0.9253 - val_loss: 1.4204 - val_accuracy: 0.5156 - lr: 1.0000e-04\n",
            "Epoch 62/600\n",
            "21/21 [==============================] - 3s 159ms/step - loss: 0.2968 - accuracy: 0.9299 - val_loss: 1.3652 - val_accuracy: 0.5312 - lr: 1.0000e-04\n",
            "Epoch 63/600\n",
            "21/21 [==============================] - 3s 160ms/step - loss: 0.3284 - accuracy: 0.9223 - val_loss: 1.5361 - val_accuracy: 0.4375 - lr: 1.0000e-04\n",
            "Epoch 64/600\n",
            "21/21 [==============================] - 3s 159ms/step - loss: 0.2453 - accuracy: 0.9421 - val_loss: 1.3976 - val_accuracy: 0.5156 - lr: 1.0000e-04\n",
            "Epoch 65/600\n",
            "21/21 [==============================] - 3s 160ms/step - loss: 0.2510 - accuracy: 0.9421 - val_loss: 1.6254 - val_accuracy: 0.4688 - lr: 1.0000e-04\n",
            "Epoch 66/600\n",
            "21/21 [==============================] - 3s 160ms/step - loss: 0.2440 - accuracy: 0.9405 - val_loss: 1.6084 - val_accuracy: 0.4531 - lr: 1.0000e-04\n",
            "Epoch 67/600\n",
            "21/21 [==============================] - 3s 160ms/step - loss: 0.2528 - accuracy: 0.9299 - val_loss: 1.4764 - val_accuracy: 0.5156 - lr: 1.0000e-04\n",
            "Epoch 68/600\n",
            "21/21 [==============================] - 3s 159ms/step - loss: 0.2801 - accuracy: 0.9207 - val_loss: 1.3465 - val_accuracy: 0.5625 - lr: 1.0000e-04\n",
            "Epoch 69/600\n",
            "21/21 [==============================] - 3s 160ms/step - loss: 0.1725 - accuracy: 0.9619 - val_loss: 1.7120 - val_accuracy: 0.5000 - lr: 1.0000e-04\n",
            "Epoch 70/600\n",
            "21/21 [==============================] - 3s 159ms/step - loss: 0.2146 - accuracy: 0.9573 - val_loss: 2.0099 - val_accuracy: 0.5312 - lr: 1.0000e-04\n",
            "Epoch 71/600\n",
            "21/21 [==============================] - 3s 159ms/step - loss: 0.2652 - accuracy: 0.9405 - val_loss: 1.4281 - val_accuracy: 0.5625 - lr: 1.0000e-04\n",
            "Epoch 72/600\n",
            "21/21 [==============================] - 3s 159ms/step - loss: 0.1576 - accuracy: 0.9680 - val_loss: 1.5252 - val_accuracy: 0.5469 - lr: 1.0000e-04\n",
            "Epoch 73/600\n",
            "21/21 [==============================] - 3s 160ms/step - loss: 0.1639 - accuracy: 0.9695 - val_loss: 1.5182 - val_accuracy: 0.4844 - lr: 1.0000e-04\n",
            "Epoch 74/600\n",
            "21/21 [==============================] - 3s 159ms/step - loss: 0.1626 - accuracy: 0.9573 - val_loss: 1.4178 - val_accuracy: 0.5781 - lr: 1.0000e-04\n",
            "Epoch 75/600\n",
            "21/21 [==============================] - 3s 160ms/step - loss: 0.1703 - accuracy: 0.9619 - val_loss: 1.3340 - val_accuracy: 0.6406 - lr: 1.0000e-04\n",
            "Epoch 76/600\n",
            "21/21 [==============================] - 3s 160ms/step - loss: 0.1674 - accuracy: 0.9604 - val_loss: 2.1157 - val_accuracy: 0.4844 - lr: 1.0000e-04\n",
            "Epoch 77/600\n",
            "21/21 [==============================] - 3s 159ms/step - loss: 0.1476 - accuracy: 0.9680 - val_loss: 1.8041 - val_accuracy: 0.5156 - lr: 1.0000e-04\n",
            "Epoch 78/600\n",
            "21/21 [==============================] - 3s 160ms/step - loss: 0.1492 - accuracy: 0.9695 - val_loss: 1.7929 - val_accuracy: 0.5000 - lr: 1.0000e-04\n",
            "Epoch 79/600\n",
            "21/21 [==============================] - 3s 159ms/step - loss: 0.1052 - accuracy: 0.9787 - val_loss: 2.0462 - val_accuracy: 0.5156 - lr: 1.0000e-04\n",
            "Epoch 80/600\n",
            "21/21 [==============================] - 3s 160ms/step - loss: 0.1215 - accuracy: 0.9756 - val_loss: 1.9023 - val_accuracy: 0.5156 - lr: 1.0000e-04\n",
            "Epoch 81/600\n",
            "21/21 [==============================] - 4s 160ms/step - loss: 0.1429 - accuracy: 0.9710 - val_loss: 1.8228 - val_accuracy: 0.5000 - lr: 1.0000e-04\n",
            "Epoch 82/600\n",
            "21/21 [==============================] - 3s 159ms/step - loss: 0.0911 - accuracy: 0.9832 - val_loss: 2.8578 - val_accuracy: 0.4062 - lr: 1.0000e-04\n",
            "Epoch 83/600\n",
            "21/21 [==============================] - 4s 165ms/step - loss: 0.1412 - accuracy: 0.9710 - val_loss: 1.7754 - val_accuracy: 0.5469 - lr: 1.0000e-04\n",
            "Epoch 84/600\n",
            "21/21 [==============================] - 3s 159ms/step - loss: 0.1740 - accuracy: 0.9588 - val_loss: 1.7383 - val_accuracy: 0.5469 - lr: 1.0000e-04\n",
            "Epoch 85/600\n",
            "21/21 [==============================] - 3s 159ms/step - loss: 0.0967 - accuracy: 0.9832 - val_loss: 1.5542 - val_accuracy: 0.5781 - lr: 1.0000e-04\n",
            "Epoch 86/600\n",
            "21/21 [==============================] - 3s 159ms/step - loss: 0.0825 - accuracy: 0.9802 - val_loss: 2.9000 - val_accuracy: 0.3906 - lr: 1.0000e-04\n",
            "Epoch 87/600\n",
            "21/21 [==============================] - 4s 174ms/step - loss: 0.0766 - accuracy: 0.9863 - val_loss: 1.8837 - val_accuracy: 0.4688 - lr: 1.0000e-04\n",
            "Epoch 88/600\n",
            "21/21 [==============================] - 4s 192ms/step - loss: 0.1463 - accuracy: 0.9619 - val_loss: 1.7639 - val_accuracy: 0.4844 - lr: 1.0000e-04\n",
            "Epoch 89/600\n",
            "21/21 [==============================] - 4s 202ms/step - loss: 0.0604 - accuracy: 0.9878 - val_loss: 2.2121 - val_accuracy: 0.4688 - lr: 1.0000e-04\n",
            "Epoch 90/600\n",
            "21/21 [==============================] - 3s 159ms/step - loss: 0.0869 - accuracy: 0.9787 - val_loss: 2.0936 - val_accuracy: 0.5469 - lr: 1.0000e-04\n",
            "Epoch 91/600\n",
            "21/21 [==============================] - 3s 159ms/step - loss: 0.0631 - accuracy: 0.9848 - val_loss: 1.8526 - val_accuracy: 0.4844 - lr: 1.0000e-04\n",
            "Epoch 92/600\n",
            "21/21 [==============================] - 3s 158ms/step - loss: 0.1132 - accuracy: 0.9741 - val_loss: 2.0155 - val_accuracy: 0.4844 - lr: 1.0000e-04\n",
            "Epoch 93/600\n",
            "21/21 [==============================] - 4s 161ms/step - loss: 0.0439 - accuracy: 0.9939 - val_loss: 2.8744 - val_accuracy: 0.4688 - lr: 1.0000e-04\n",
            "Epoch 94/600\n",
            "21/21 [==============================] - 3s 159ms/step - loss: 0.0570 - accuracy: 0.9939 - val_loss: 2.6047 - val_accuracy: 0.5000 - lr: 1.0000e-04\n",
            "Epoch 95/600\n",
            "21/21 [==============================] - 3s 159ms/step - loss: 0.0656 - accuracy: 0.9863 - val_loss: 1.9325 - val_accuracy: 0.5000 - lr: 1.0000e-04\n",
            "Epoch 96/600\n",
            "21/21 [==============================] - 3s 161ms/step - loss: 0.0457 - accuracy: 0.9954 - val_loss: 2.1892 - val_accuracy: 0.5000 - lr: 1.0000e-04\n",
            "Epoch 97/600\n",
            "21/21 [==============================] - 3s 160ms/step - loss: 0.0936 - accuracy: 0.9787 - val_loss: 2.1153 - val_accuracy: 0.5625 - lr: 1.0000e-04\n",
            "Epoch 98/600\n",
            "21/21 [==============================] - 3s 159ms/step - loss: 0.0297 - accuracy: 0.9954 - val_loss: 1.8522 - val_accuracy: 0.5469 - lr: 1.0000e-04\n",
            "Epoch 99/600\n",
            "21/21 [==============================] - 3s 159ms/step - loss: 0.0260 - accuracy: 0.9985 - val_loss: 4.4967 - val_accuracy: 0.4062 - lr: 1.0000e-04\n",
            "Epoch 100/600\n",
            "21/21 [==============================] - 3s 160ms/step - loss: 0.0979 - accuracy: 0.9832 - val_loss: 1.9854 - val_accuracy: 0.5156 - lr: 1.0000e-04\n",
            "Epoch 101/600\n",
            "21/21 [==============================] - 3s 160ms/step - loss: 0.0700 - accuracy: 0.9893 - val_loss: 2.3298 - val_accuracy: 0.5000 - lr: 1.0000e-04\n",
            "Epoch 102/600\n",
            "21/21 [==============================] - 3s 160ms/step - loss: 0.0436 - accuracy: 0.9939 - val_loss: 2.0536 - val_accuracy: 0.5625 - lr: 1.0000e-04\n",
            "Epoch 103/600\n",
            "21/21 [==============================] - 3s 160ms/step - loss: 0.0299 - accuracy: 0.9954 - val_loss: 2.5324 - val_accuracy: 0.5156 - lr: 1.0000e-04\n",
            "Epoch 104/600\n",
            "21/21 [==============================] - 4s 163ms/step - loss: 0.0416 - accuracy: 0.9924 - val_loss: 4.0581 - val_accuracy: 0.4062 - lr: 1.0000e-04\n",
            "Epoch 105/600\n",
            "21/21 [==============================] - 4s 186ms/step - loss: 0.0295 - accuracy: 0.9970 - val_loss: 2.4213 - val_accuracy: 0.5156 - lr: 1.0000e-04\n",
            "Epoch 106/600\n",
            "21/21 [==============================] - 3s 158ms/step - loss: 0.0463 - accuracy: 0.9893 - val_loss: 2.1809 - val_accuracy: 0.5625 - lr: 1.0000e-04\n",
            "Epoch 107/600\n",
            "21/21 [==============================] - ETA: 0s - loss: 0.0715 - accuracy: 0.9848\n",
            "Epoch 107: ReduceLROnPlateau reducing learning rate to 9.999999747378752e-06.\n",
            "21/21 [==============================] - 3s 159ms/step - loss: 0.0715 - accuracy: 0.9848 - val_loss: 2.2981 - val_accuracy: 0.4844 - lr: 1.0000e-04\n",
            "Epoch 108/600\n",
            "21/21 [==============================] - 3s 158ms/step - loss: 0.0099 - accuracy: 1.0000 - val_loss: 1.9629 - val_accuracy: 0.5000 - lr: 1.0000e-05\n",
            "Epoch 109/600\n",
            "21/21 [==============================] - 3s 159ms/step - loss: 0.0074 - accuracy: 1.0000 - val_loss: 2.2825 - val_accuracy: 0.5312 - lr: 1.0000e-05\n",
            "Epoch 110/600\n",
            "21/21 [==============================] - 3s 162ms/step - loss: 0.0153 - accuracy: 0.9954 - val_loss: 2.4957 - val_accuracy: 0.4844 - lr: 1.0000e-05\n",
            "Epoch 111/600\n",
            "21/21 [==============================] - 3s 160ms/step - loss: 0.0092 - accuracy: 1.0000 - val_loss: 2.1516 - val_accuracy: 0.4688 - lr: 1.0000e-05\n",
            "Epoch 112/600\n",
            "21/21 [==============================] - 3s 160ms/step - loss: 0.0066 - accuracy: 1.0000 - val_loss: 2.4824 - val_accuracy: 0.5312 - lr: 1.0000e-05\n",
            "Epoch 113/600\n",
            "21/21 [==============================] - 3s 159ms/step - loss: 0.0073 - accuracy: 1.0000 - val_loss: 2.3331 - val_accuracy: 0.4844 - lr: 1.0000e-05\n",
            "Epoch 114/600\n",
            "21/21 [==============================] - 3s 159ms/step - loss: 0.0069 - accuracy: 0.9985 - val_loss: 2.6965 - val_accuracy: 0.5156 - lr: 1.0000e-05\n",
            "Epoch 115/600\n",
            "21/21 [==============================] - 3s 160ms/step - loss: 0.0066 - accuracy: 1.0000 - val_loss: 2.4518 - val_accuracy: 0.4375 - lr: 1.0000e-05\n",
            "Epoch 116/600\n",
            "21/21 [==============================] - 4s 182ms/step - loss: 0.0075 - accuracy: 0.9985 - val_loss: 2.8002 - val_accuracy: 0.4688 - lr: 1.0000e-05\n",
            "Epoch 117/600\n",
            "21/21 [==============================] - 4s 176ms/step - loss: 0.0056 - accuracy: 1.0000 - val_loss: 2.8975 - val_accuracy: 0.4688 - lr: 1.0000e-05\n",
            "Epoch 118/600\n",
            "21/21 [==============================] - 3s 160ms/step - loss: 0.0045 - accuracy: 1.0000 - val_loss: 3.0308 - val_accuracy: 0.4844 - lr: 1.0000e-05\n",
            "Epoch 119/600\n",
            "21/21 [==============================] - 4s 172ms/step - loss: 0.0055 - accuracy: 1.0000 - val_loss: 3.1721 - val_accuracy: 0.4688 - lr: 1.0000e-05\n",
            "Epoch 120/600\n",
            "21/21 [==============================] - 3s 160ms/step - loss: 0.0044 - accuracy: 1.0000 - val_loss: 2.5537 - val_accuracy: 0.5781 - lr: 1.0000e-05\n",
            "Epoch 121/600\n",
            "21/21 [==============================] - 4s 166ms/step - loss: 0.0039 - accuracy: 1.0000 - val_loss: 2.6035 - val_accuracy: 0.5625 - lr: 1.0000e-05\n",
            "Epoch 122/600\n",
            "21/21 [==============================] - 4s 171ms/step - loss: 0.0042 - accuracy: 1.0000 - val_loss: 2.5630 - val_accuracy: 0.5156 - lr: 1.0000e-05\n",
            "Epoch 123/600\n",
            "21/21 [==============================] - 3s 160ms/step - loss: 0.0034 - accuracy: 1.0000 - val_loss: 2.2569 - val_accuracy: 0.5625 - lr: 1.0000e-05\n",
            "Epoch 124/600\n",
            "21/21 [==============================] - 3s 160ms/step - loss: 0.0031 - accuracy: 1.0000 - val_loss: 2.8267 - val_accuracy: 0.4844 - lr: 1.0000e-05\n",
            "Epoch 125/600\n",
            "21/21 [==============================] - 3s 159ms/step - loss: 0.0033 - accuracy: 1.0000 - val_loss: 2.8103 - val_accuracy: 0.5000 - lr: 1.0000e-05\n",
            "Epoch 126/600\n",
            "21/21 [==============================] - 3s 160ms/step - loss: 0.0034 - accuracy: 1.0000 - val_loss: 3.2282 - val_accuracy: 0.4375 - lr: 1.0000e-05\n",
            "Epoch 127/600\n",
            "21/21 [==============================] - 5s 234ms/step - loss: 0.0028 - accuracy: 1.0000 - val_loss: 2.3792 - val_accuracy: 0.5781 - lr: 1.0000e-05\n",
            "Epoch 128/600\n",
            "21/21 [==============================] - 4s 162ms/step - loss: 0.0030 - accuracy: 1.0000 - val_loss: 2.9192 - val_accuracy: 0.5469 - lr: 1.0000e-05\n",
            "Epoch 129/600\n",
            "21/21 [==============================] - 3s 162ms/step - loss: 0.0039 - accuracy: 1.0000 - val_loss: 2.8770 - val_accuracy: 0.5312 - lr: 1.0000e-05\n",
            "Epoch 130/600\n",
            "21/21 [==============================] - 4s 165ms/step - loss: 0.0031 - accuracy: 1.0000 - val_loss: 2.4491 - val_accuracy: 0.5469 - lr: 1.0000e-05\n",
            "Epoch 131/600\n",
            "21/21 [==============================] - 4s 210ms/step - loss: 0.0025 - accuracy: 1.0000 - val_loss: 2.5489 - val_accuracy: 0.5469 - lr: 1.0000e-05\n",
            "Epoch 132/600\n",
            "21/21 [==============================] - 4s 171ms/step - loss: 0.0033 - accuracy: 1.0000 - val_loss: 2.8124 - val_accuracy: 0.4531 - lr: 1.0000e-05\n",
            "Mejor epoca: 75\n",
            "2/2 [==============================] - 0s 108ms/step - loss: 3.0794 - accuracy: 0.4688\n",
            "[test loss, test accuracy]: [3.0794103145599365, 0.46875]\n",
            "120/120 [==============================] - 51s 422ms/step\n",
            "0.20833333333333334\n"
          ]
        },
        {
          "output_type": "display_data",
          "data": {
            "text/plain": [
              "<Figure size 432x288 with 2 Axes>"
            ],
            "image/png": "[encoded data removed]"
          },
          "metadata": {
            "needs_background": "light"
          }
        },
        {
          "output_type": "display_data",
          "data": {
            "text/plain": [
              "<Figure size 432x288 with 1 Axes>"
            ],
            "image/png": "[encoded data removed]"
          },
          "metadata": {
            "needs_background": "light"
          }
        },
        {
          "output_type": "display_data",
          "data": {
            "text/plain": [
              "<Figure size 432x288 with 1 Axes>"
            ],
            "image/png": "[encoded data removed]"
          },
          "metadata": {
            "needs_background": "light"
          }
        },
        {
          "output_type": "display_data",
          "data": {
            "text/plain": [
              "<Figure size 432x288 with 0 Axes>"
            ]
          },
          "metadata": {}
        }
      ]
    },
    {
      "cell_type": "code",
      "source": [
        "model.load_weights(filepath = '.mdl_wts.hdf5')\n",
        "test_predict = model.predict(test_generator, steps = test_generator.n // 1, verbose =1)\n",
        "class_names = list(validation_generator.class_indices.keys())\n",
        "mostrarMatrizConf(test_predict,test_generator, class_names)"
      ],
      "metadata": {
        "id": "mfRu3g8yeKQH",
        "colab": {
          "base_uri": "https://localhost:8080/",
          "height": 319
        },
        "outputId": "a6727c9c-55cf-4ae9-9889-84366436af78"
      },
      "execution_count": 15,
      "outputs": [
        {
          "output_type": "stream",
          "name": "stdout",
          "text": [
            "120/120 [==============================] - 1s 5ms/step\n",
            "0.225\n"
          ]
        },
        {
          "output_type": "display_data",
          "data": {
            "text/plain": [
              "<Figure size 432x288 with 2 Axes>"
            ],
            "image/png": "[encoded data removed]"
          },
          "metadata": {
            "needs_background": "light"
          }
        }
      ]
    },
    {
      "cell_type": "markdown",
      "source": [
        "##Test 2"
      ],
      "metadata": {
        "id": "PL-5DaS_FXxf"
      }
    },
    {
      "cell_type": "code",
      "source": [
        "model = tf.keras.Sequential([\n",
        "    layers.Conv2D(32, 3, padding=\"same\", activation=\"relu\",input_shape=(img_height,img_width,3)),\n",
        "    layers.Conv2D(32, 3, activation=\"relu\"),\n",
        "    layers.MaxPooling2D(2, 2),\n",
        "    layers.Dropout(0.02),\n",
        "    layers.Conv2D(64, 3, padding='same', activation='relu'),\n",
        "    layers.Conv2D(64, 3, activation='relu'),\n",
        "    layers.MaxPooling2D(2, 2),\n",
        "    layers.Dropout(0.015),\n",
        "    layers.Flatten(),\n",
        "    layers.Dense(512, activation='relu'),\n",
        "    layers.Dropout(0.01),\n",
        "    layers.Dense(4, activation =\"sigmoid\")\n",
        "])\n",
        "\n",
        "learning_rate=0.0001\n",
        "\n",
        "model.compile(optimizer= keras.optimizers.RMSprop(learning_rate=learning_rate, decay=1e-6),loss=\"categorical_crossentropy\",metrics=[\"accuracy\"])\n",
        "#model.compile(optimizer=keras.optimizers.Adam(learning_rate), loss='categorical_crossentropy',metrics=['accuracy'])\n",
        "model.summary()"
      ],
      "metadata": {
        "colab": {
          "base_uri": "https://localhost:8080/"
        },
        "outputId": "ebd17c81-cec4-4e8f-c037-2bf2f6efac51",
        "id": "jeghJuBWFe1R"
      },
      "execution_count": 16,
      "outputs": [
        {
          "output_type": "stream",
          "name": "stdout",
          "text": [
            "Model: \"sequential_1\"\n",
            "_________________________________________________________________\n",
            " Layer (type)                Output Shape              Param #   \n",
            "=================================================================\n",
            " conv2d_4 (Conv2D)           (None, 224, 224, 32)      896       \n",
            "                                                                 \n",
            " conv2d_5 (Conv2D)           (None, 222, 222, 32)      9248      \n",
            "                                                                 \n",
            " max_pooling2d_2 (MaxPooling  (None, 111, 111, 32)     0         \n",
            " 2D)                                                             \n",
            "                                                                 \n",
            " dropout_3 (Dropout)         (None, 111, 111, 32)      0         \n",
            "                                                                 \n",
            " conv2d_6 (Conv2D)           (None, 111, 111, 64)      18496     \n",
            "                                                                 \n",
            " conv2d_7 (Conv2D)           (None, 109, 109, 64)      36928     \n",
            "                                                                 \n",
            " max_pooling2d_3 (MaxPooling  (None, 54, 54, 64)       0         \n",
            " 2D)                                                             \n",
            "                                                                 \n",
            " dropout_4 (Dropout)         (None, 54, 54, 64)        0         \n",
            "                                                                 \n",
            " flatten_1 (Flatten)         (None, 186624)            0         \n",
            "                                                                 \n",
            " dense_2 (Dense)             (None, 512)               95552000  \n",
            "                                                                 \n",
            " dropout_5 (Dropout)         (None, 512)               0         \n",
            "                                                                 \n",
            " dense_3 (Dense)             (None, 4)                 2052      \n",
            "                                                                 \n",
            "=================================================================\n",
            "Total params: 95,619,620\n",
            "Trainable params: 95,619,620\n",
            "Non-trainable params: 0\n",
            "_________________________________________________________________\n"
          ]
        }
      ]
    },
    {
      "cell_type": "code",
      "source": [
        "from keras.callbacks import EarlyStopping, ModelCheckpoint, ReduceLROnPlateau\n",
        "\n",
        "earlyStopping = EarlyStopping(monitor='val_loss', patience=50, verbose=0, mode='min', min_delta =1e-4)\n",
        "mcp_save = ModelCheckpoint('.mdl_wts.hdf5', save_best_only=True, monitor='val_loss', mode='min')\n",
        "reduce_lr_loss = ReduceLROnPlateau(monitor='val_loss', factor=0.1, patience=30, verbose=1, min_delta=1e-4, mode='min')"
      ],
      "metadata": {
        "id": "LroKV4mtFe1T"
      },
      "execution_count": 17,
      "outputs": []
    },
    {
      "cell_type": "code",
      "source": [
        "from sklearn.utils import class_weight \n",
        "class_weights = class_weight.compute_class_weight('balanced',classes= np.unique(train_generator.classes), y= train_generator.classes )\n",
        "\n",
        "train_class_weights = dict(enumerate(class_weights))\n",
        "\n",
        "print(class_weights)\n",
        "print(train_class_weights)"
      ],
      "metadata": {
        "colab": {
          "base_uri": "https://localhost:8080/"
        },
        "outputId": "00a31290-44d0-4d21-be61-8e2c62970b34",
        "id": "L5Nn0x6pFe1U"
      },
      "execution_count": 18,
      "outputs": [
        {
          "output_type": "stream",
          "name": "stdout",
          "text": [
            "[1. 1. 1. 1.]\n",
            "{0: 1.0, 1: 1.0, 2: 1.0, 3: 1.0}\n"
          ]
        }
      ]
    },
    {
      "cell_type": "code",
      "source": [
        "history = model.fit(train_generator,epochs=450,validation_data=validation_generator,validation_steps=validation_steps, shuffle=False,class_weight=train_class_weights, callbacks=[earlyStopping, mcp_save, reduce_lr_loss])\n",
        "calcularHistorial(model,history,validation_generator,test_generator,validation_steps)"
      ],
      "metadata": {
        "colab": {
          "base_uri": "https://localhost:8080/",
          "height": 1000
        },
        "outputId": "317d705a-378e-41b5-d5f4-b69423a26d36",
        "id": "bTw7SO74Fe1X"
      },
      "execution_count": 19,
      "outputs": [
        {
          "output_type": "stream",
          "name": "stdout",
          "text": [
            "Epoch 1/450\n",
            "21/21 [==============================] - 8s 325ms/step - loss: 1.7549 - accuracy: 0.2561 - val_loss: 1.5408 - val_accuracy: 0.2656 - lr: 1.0000e-04\n",
            "Epoch 2/450\n",
            "21/21 [==============================] - 7s 312ms/step - loss: 1.3796 - accuracy: 0.3186 - val_loss: 1.3364 - val_accuracy: 0.3594 - lr: 1.0000e-04\n",
            "Epoch 3/450\n",
            "21/21 [==============================] - 6s 306ms/step - loss: 1.2634 - accuracy: 0.3902 - val_loss: 1.2123 - val_accuracy: 0.4844 - lr: 1.0000e-04\n",
            "Epoch 4/450\n",
            "21/21 [==============================] - 7s 312ms/step - loss: 1.1817 - accuracy: 0.4756 - val_loss: 1.2064 - val_accuracy: 0.5000 - lr: 1.0000e-04\n",
            "Epoch 5/450\n",
            "21/21 [==============================] - 4s 159ms/step - loss: 1.1037 - accuracy: 0.5274 - val_loss: 1.3347 - val_accuracy: 0.3906 - lr: 1.0000e-04\n",
            "Epoch 6/450\n",
            "21/21 [==============================] - 7s 312ms/step - loss: 1.1129 - accuracy: 0.5290 - val_loss: 1.1626 - val_accuracy: 0.3906 - lr: 1.0000e-04\n",
            "Epoch 7/450\n",
            "21/21 [==============================] - 3s 159ms/step - loss: 1.0833 - accuracy: 0.5259 - val_loss: 1.1708 - val_accuracy: 0.4219 - lr: 1.0000e-04\n",
            "Epoch 8/450\n",
            "21/21 [==============================] - 6s 300ms/step - loss: 1.0432 - accuracy: 0.5503 - val_loss: 1.1556 - val_accuracy: 0.4531 - lr: 1.0000e-04\n",
            "Epoch 9/450\n",
            "21/21 [==============================] - 3s 159ms/step - loss: 1.0283 - accuracy: 0.5732 - val_loss: 1.2965 - val_accuracy: 0.3281 - lr: 1.0000e-04\n",
            "Epoch 10/450\n",
            "21/21 [==============================] - 6s 300ms/step - loss: 0.9984 - accuracy: 0.5412 - val_loss: 1.1517 - val_accuracy: 0.4688 - lr: 1.0000e-04\n",
            "Epoch 11/450\n",
            "21/21 [==============================] - 6s 303ms/step - loss: 1.0012 - accuracy: 0.5808 - val_loss: 1.1501 - val_accuracy: 0.5156 - lr: 1.0000e-04\n",
            "Epoch 12/450\n",
            "21/21 [==============================] - 6s 307ms/step - loss: 0.9725 - accuracy: 0.5960 - val_loss: 1.1137 - val_accuracy: 0.4531 - lr: 1.0000e-04\n",
            "Epoch 13/450\n",
            "21/21 [==============================] - 3s 160ms/step - loss: 0.9431 - accuracy: 0.6189 - val_loss: 1.1501 - val_accuracy: 0.5156 - lr: 1.0000e-04\n",
            "Epoch 14/450\n",
            "21/21 [==============================] - 6s 308ms/step - loss: 0.9312 - accuracy: 0.6159 - val_loss: 1.1047 - val_accuracy: 0.5156 - lr: 1.0000e-04\n",
            "Epoch 15/450\n",
            "21/21 [==============================] - 6s 307ms/step - loss: 0.8909 - accuracy: 0.6448 - val_loss: 1.0717 - val_accuracy: 0.5469 - lr: 1.0000e-04\n",
            "Epoch 16/450\n",
            "21/21 [==============================] - 4s 159ms/step - loss: 0.8678 - accuracy: 0.6280 - val_loss: 1.0945 - val_accuracy: 0.5312 - lr: 1.0000e-04\n",
            "Epoch 17/450\n",
            "21/21 [==============================] - 3s 159ms/step - loss: 0.8524 - accuracy: 0.6448 - val_loss: 1.1095 - val_accuracy: 0.4688 - lr: 1.0000e-04\n",
            "Epoch 18/450\n",
            "21/21 [==============================] - 3s 159ms/step - loss: 0.8283 - accuracy: 0.6677 - val_loss: 1.2631 - val_accuracy: 0.4062 - lr: 1.0000e-04\n",
            "Epoch 19/450\n",
            "21/21 [==============================] - 3s 159ms/step - loss: 0.8388 - accuracy: 0.6723 - val_loss: 1.1305 - val_accuracy: 0.5000 - lr: 1.0000e-04\n",
            "Epoch 20/450\n",
            "21/21 [==============================] - 3s 160ms/step - loss: 0.8029 - accuracy: 0.6631 - val_loss: 1.1314 - val_accuracy: 0.5000 - lr: 1.0000e-04\n",
            "Epoch 21/450\n",
            "21/21 [==============================] - 3s 160ms/step - loss: 0.7898 - accuracy: 0.6845 - val_loss: 1.1460 - val_accuracy: 0.5312 - lr: 1.0000e-04\n",
            "Epoch 22/450\n",
            "21/21 [==============================] - 4s 161ms/step - loss: 0.7382 - accuracy: 0.7149 - val_loss: 1.2252 - val_accuracy: 0.5156 - lr: 1.0000e-04\n",
            "Epoch 23/450\n",
            "21/21 [==============================] - 3s 160ms/step - loss: 0.7260 - accuracy: 0.7226 - val_loss: 1.0784 - val_accuracy: 0.5781 - lr: 1.0000e-04\n",
            "Epoch 24/450\n",
            "21/21 [==============================] - 3s 160ms/step - loss: 0.6760 - accuracy: 0.7607 - val_loss: 1.0824 - val_accuracy: 0.5156 - lr: 1.0000e-04\n",
            "Epoch 25/450\n",
            "21/21 [==============================] - 3s 160ms/step - loss: 0.6943 - accuracy: 0.7378 - val_loss: 1.1125 - val_accuracy: 0.6094 - lr: 1.0000e-04\n",
            "Epoch 26/450\n",
            "21/21 [==============================] - 3s 160ms/step - loss: 0.6517 - accuracy: 0.7454 - val_loss: 1.0808 - val_accuracy: 0.5469 - lr: 1.0000e-04\n",
            "Epoch 27/450\n",
            "21/21 [==============================] - 3s 160ms/step - loss: 0.6240 - accuracy: 0.7530 - val_loss: 1.1165 - val_accuracy: 0.5625 - lr: 1.0000e-04\n",
            "Epoch 28/450\n",
            "21/21 [==============================] - 3s 159ms/step - loss: 0.5835 - accuracy: 0.7896 - val_loss: 1.4434 - val_accuracy: 0.4219 - lr: 1.0000e-04\n",
            "Epoch 29/450\n",
            "21/21 [==============================] - 3s 160ms/step - loss: 0.6018 - accuracy: 0.7774 - val_loss: 1.1126 - val_accuracy: 0.5312 - lr: 1.0000e-04\n",
            "Epoch 30/450\n",
            "21/21 [==============================] - 3s 159ms/step - loss: 0.5377 - accuracy: 0.8140 - val_loss: 1.1255 - val_accuracy: 0.5938 - lr: 1.0000e-04\n",
            "Epoch 31/450\n",
            "21/21 [==============================] - 3s 160ms/step - loss: 0.5140 - accuracy: 0.8232 - val_loss: 1.2857 - val_accuracy: 0.5781 - lr: 1.0000e-04\n",
            "Epoch 32/450\n",
            "21/21 [==============================] - 3s 160ms/step - loss: 0.4960 - accuracy: 0.8323 - val_loss: 1.1337 - val_accuracy: 0.5625 - lr: 1.0000e-04\n",
            "Epoch 33/450\n",
            "21/21 [==============================] - 3s 158ms/step - loss: 0.5324 - accuracy: 0.8003 - val_loss: 1.1318 - val_accuracy: 0.5469 - lr: 1.0000e-04\n",
            "Epoch 34/450\n",
            "21/21 [==============================] - 3s 159ms/step - loss: 0.4390 - accuracy: 0.8567 - val_loss: 1.3552 - val_accuracy: 0.5781 - lr: 1.0000e-04\n",
            "Epoch 35/450\n",
            "21/21 [==============================] - 3s 158ms/step - loss: 0.4456 - accuracy: 0.8338 - val_loss: 1.3212 - val_accuracy: 0.4844 - lr: 1.0000e-04\n",
            "Epoch 36/450\n",
            "21/21 [==============================] - 3s 159ms/step - loss: 0.4161 - accuracy: 0.8491 - val_loss: 1.1038 - val_accuracy: 0.5312 - lr: 1.0000e-04\n",
            "Epoch 37/450\n",
            "21/21 [==============================] - 3s 160ms/step - loss: 0.3920 - accuracy: 0.8521 - val_loss: 1.1998 - val_accuracy: 0.5781 - lr: 1.0000e-04\n",
            "Epoch 38/450\n",
            "21/21 [==============================] - 3s 160ms/step - loss: 0.3829 - accuracy: 0.8780 - val_loss: 1.2505 - val_accuracy: 0.5469 - lr: 1.0000e-04\n",
            "Epoch 39/450\n",
            "21/21 [==============================] - 3s 160ms/step - loss: 0.3329 - accuracy: 0.8902 - val_loss: 1.2198 - val_accuracy: 0.5000 - lr: 1.0000e-04\n",
            "Epoch 40/450\n",
            "21/21 [==============================] - 4s 181ms/step - loss: 0.3100 - accuracy: 0.8948 - val_loss: 1.2127 - val_accuracy: 0.5625 - lr: 1.0000e-04\n",
            "Epoch 41/450\n",
            "21/21 [==============================] - 3s 160ms/step - loss: 0.2844 - accuracy: 0.9101 - val_loss: 1.8765 - val_accuracy: 0.3906 - lr: 1.0000e-04\n",
            "Epoch 42/450\n",
            "21/21 [==============================] - 3s 161ms/step - loss: 0.3188 - accuracy: 0.9024 - val_loss: 1.3719 - val_accuracy: 0.5000 - lr: 1.0000e-04\n",
            "Epoch 43/450\n",
            "21/21 [==============================] - 3s 159ms/step - loss: 0.2925 - accuracy: 0.9116 - val_loss: 1.3058 - val_accuracy: 0.5469 - lr: 1.0000e-04\n",
            "Epoch 44/450\n",
            "21/21 [==============================] - 3s 158ms/step - loss: 0.2865 - accuracy: 0.9101 - val_loss: 1.4030 - val_accuracy: 0.5938 - lr: 1.0000e-04\n",
            "Epoch 45/450\n",
            "21/21 [==============================] - ETA: 0s - loss: 0.2684 - accuracy: 0.9085\n",
            "Epoch 45: ReduceLROnPlateau reducing learning rate to 9.999999747378752e-06.\n",
            "21/21 [==============================] - 3s 159ms/step - loss: 0.2684 - accuracy: 0.9085 - val_loss: 1.3332 - val_accuracy: 0.5156 - lr: 1.0000e-04\n",
            "Epoch 46/450\n",
            "21/21 [==============================] - 3s 159ms/step - loss: 0.1879 - accuracy: 0.9573 - val_loss: 1.2199 - val_accuracy: 0.6250 - lr: 1.0000e-05\n",
            "Epoch 47/450\n",
            "21/21 [==============================] - 3s 159ms/step - loss: 0.1676 - accuracy: 0.9588 - val_loss: 1.3235 - val_accuracy: 0.5938 - lr: 1.0000e-05\n",
            "Epoch 48/450\n",
            "21/21 [==============================] - 3s 160ms/step - loss: 0.1462 - accuracy: 0.9634 - val_loss: 1.4110 - val_accuracy: 0.5938 - lr: 1.0000e-05\n",
            "Epoch 49/450\n",
            "21/21 [==============================] - 3s 160ms/step - loss: 0.1446 - accuracy: 0.9619 - val_loss: 1.4032 - val_accuracy: 0.5625 - lr: 1.0000e-05\n",
            "Epoch 50/450\n",
            "21/21 [==============================] - 3s 160ms/step - loss: 0.1290 - accuracy: 0.9741 - val_loss: 1.4023 - val_accuracy: 0.5156 - lr: 1.0000e-05\n",
            "Epoch 51/450\n",
            "21/21 [==============================] - 3s 160ms/step - loss: 0.1302 - accuracy: 0.9665 - val_loss: 1.4232 - val_accuracy: 0.5625 - lr: 1.0000e-05\n",
            "Epoch 52/450\n",
            "21/21 [==============================] - 3s 160ms/step - loss: 0.1392 - accuracy: 0.9665 - val_loss: 1.5416 - val_accuracy: 0.5312 - lr: 1.0000e-05\n",
            "Epoch 53/450\n",
            "21/21 [==============================] - 3s 160ms/step - loss: 0.1358 - accuracy: 0.9695 - val_loss: 1.1973 - val_accuracy: 0.6719 - lr: 1.0000e-05\n",
            "Epoch 54/450\n",
            "21/21 [==============================] - 3s 159ms/step - loss: 0.1143 - accuracy: 0.9726 - val_loss: 1.4462 - val_accuracy: 0.5469 - lr: 1.0000e-05\n",
            "Epoch 55/450\n",
            "21/21 [==============================] - 3s 160ms/step - loss: 0.1249 - accuracy: 0.9619 - val_loss: 1.3043 - val_accuracy: 0.5781 - lr: 1.0000e-05\n",
            "Epoch 56/450\n",
            "21/21 [==============================] - 3s 160ms/step - loss: 0.1222 - accuracy: 0.9665 - val_loss: 1.4403 - val_accuracy: 0.5312 - lr: 1.0000e-05\n",
            "Epoch 57/450\n",
            "21/21 [==============================] - 3s 159ms/step - loss: 0.1241 - accuracy: 0.9710 - val_loss: 1.3895 - val_accuracy: 0.5469 - lr: 1.0000e-05\n",
            "Epoch 58/450\n",
            "21/21 [==============================] - 3s 160ms/step - loss: 0.1062 - accuracy: 0.9787 - val_loss: 1.4111 - val_accuracy: 0.5312 - lr: 1.0000e-05\n",
            "Epoch 59/450\n",
            "21/21 [==============================] - 3s 160ms/step - loss: 0.1162 - accuracy: 0.9771 - val_loss: 1.4283 - val_accuracy: 0.6250 - lr: 1.0000e-05\n",
            "Epoch 60/450\n",
            "21/21 [==============================] - 3s 160ms/step - loss: 0.1041 - accuracy: 0.9756 - val_loss: 1.5498 - val_accuracy: 0.5312 - lr: 1.0000e-05\n",
            "Epoch 61/450\n",
            "21/21 [==============================] - 3s 160ms/step - loss: 0.1018 - accuracy: 0.9802 - val_loss: 1.5491 - val_accuracy: 0.5156 - lr: 1.0000e-05\n",
            "Epoch 62/450\n",
            "21/21 [==============================] - 3s 160ms/step - loss: 0.1019 - accuracy: 0.9756 - val_loss: 1.3109 - val_accuracy: 0.6406 - lr: 1.0000e-05\n",
            "Epoch 63/450\n",
            "21/21 [==============================] - 3s 160ms/step - loss: 0.1022 - accuracy: 0.9802 - val_loss: 1.4380 - val_accuracy: 0.6250 - lr: 1.0000e-05\n",
            "Epoch 64/450\n",
            "21/21 [==============================] - 3s 159ms/step - loss: 0.0944 - accuracy: 0.9832 - val_loss: 1.4912 - val_accuracy: 0.5625 - lr: 1.0000e-05\n",
            "Epoch 65/450\n",
            "21/21 [==============================] - 3s 160ms/step - loss: 0.0933 - accuracy: 0.9863 - val_loss: 1.4801 - val_accuracy: 0.6719 - lr: 1.0000e-05\n",
            "Mejor epoca: 53\n",
            "2/2 [==============================] - 0s 106ms/step - loss: 1.5394 - accuracy: 0.5938\n",
            "[test loss, test accuracy]: [1.539390206336975, 0.59375]\n",
            "120/120 [==============================] - 1s 5ms/step\n",
            "0.2833333333333333\n"
          ]
        },
        {
          "output_type": "display_data",
          "data": {
            "text/plain": [
              "<Figure size 432x288 with 2 Axes>"
            ],
            "image/png": "[encoded data removed]"
          },
          "metadata": {
            "needs_background": "light"
          }
        },
        {
          "output_type": "display_data",
          "data": {
            "text/plain": [
              "<Figure size 432x288 with 1 Axes>"
            ],
            "image/png": "[encoded data removed]"
          },
          "metadata": {
            "needs_background": "light"
          }
        },
        {
          "output_type": "display_data",
          "data": {
            "text/plain": [
              "<Figure size 432x288 with 1 Axes>"
            ],
            "image/png": "[encoded data removed]"
          },
          "metadata": {
            "needs_background": "light"
          }
        },
        {
          "output_type": "display_data",
          "data": {
            "text/plain": [
              "<Figure size 432x288 with 0 Axes>"
            ]
          },
          "metadata": {}
        }
      ]
    },
    {
      "cell_type": "code",
      "source": [
        "model.load_weights(filepath = '.mdl_wts.hdf5')\n",
        "test_predict = model.predict(test_generator, steps = test_generator.n // 1, verbose =1)\n",
        "class_names = list(validation_generator.class_indices.keys())\n",
        "mostrarMatrizConf(test_predict,test_generator, class_names)"
      ],
      "metadata": {
        "colab": {
          "base_uri": "https://localhost:8080/",
          "height": 315
        },
        "outputId": "6400d8aa-931e-46c6-dda0-4b1773088ef0",
        "id": "1iFAx9KaHdh9"
      },
      "execution_count": 20,
      "outputs": [
        {
          "output_type": "stream",
          "name": "stdout",
          "text": [
            "120/120 [==============================] - 1s 5ms/step\n",
            "0.20833333333333334\n"
          ]
        },
        {
          "output_type": "display_data",
          "data": {
            "text/plain": [
              "<Figure size 432x288 with 2 Axes>"
            ],
            "image/png": "[encoded data removed]"
          },
          "metadata": {
            "needs_background": "light"
          }
        }
      ]
    },
    {
      "cell_type": "markdown",
      "source": [
        "Vemos que usando tan pocas imagenes no se entrena bien el modelo, vamos a usar ahora todas las imagenes a ver como funciona.\n",
        "\n",
        "Hemos comprobado tambien que el validation split era el problema."
      ],
      "metadata": {
        "id": "y5drDs5BHgIH"
      }
    },
    {
      "cell_type": "markdown",
      "source": [
        "##Test 3"
      ],
      "metadata": {
        "id": "2LV8Tq4iHuBV"
      }
    },
    {
      "cell_type": "code",
      "source": [],
      "metadata": {
        "id": "Hk1TTZ01HtOB"
      },
      "execution_count": null,
      "outputs": []
    },
    {
      "cell_type": "markdown",
      "source": [
        "#Webgrafía"
      ],
      "metadata": {
        "id": "0FTiVZ-WWu1n"
      }
    },
    {
      "cell_type": "markdown",
      "source": [
        "Filas unicas en dataframe -> https://www.statology.org/pandas-unique-rows/ \n",
        "\n",
        "pandas groupby -> https://realpython.com/pandas-groupby/ \n",
        "\n",
        "pandas dataframe drop -> https://pandas.pydata.org/pandas-docs/stable/reference/api/pandas.DataFrame.drop.html\n",
        "\n",
        "pandas dataframe concat -> https://realpython.com/pandas-merge-join-and-concat/ "
      ],
      "metadata": {
        "id": "gRWE5CBCWwjM"
      }
    }
  ]
}